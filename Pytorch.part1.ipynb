{
 "cells": [
  {
   "cell_type": "code",
   "execution_count": 1,
   "id": "3567ba0c-6967-4e4f-b2c6-7bfe0afd4c14",
   "metadata": {},
   "outputs": [],
   "source": [
    "# https://www.learnpytorch.io/00_pytorch_fundamentals/"
   ]
  },
  {
   "cell_type": "code",
   "execution_count": 2,
   "id": "30d03899-563d-4704-acaa-2a4a5ba314c8",
   "metadata": {},
   "outputs": [
    {
     "data": {
      "text/plain": [
       "'2.7.1+cu126'"
      ]
     },
     "execution_count": 2,
     "metadata": {},
     "output_type": "execute_result"
    }
   ],
   "source": [
    "import torch\n",
    "torch.__version__"
   ]
  },
  {
   "cell_type": "code",
   "execution_count": 3,
   "id": "73eb68b1-a28f-4816-92b6-fa70e8c93947",
   "metadata": {},
   "outputs": [
    {
     "data": {
      "text/plain": [
       "tensor(7)"
      ]
     },
     "execution_count": 3,
     "metadata": {},
     "output_type": "execute_result"
    }
   ],
   "source": [
    "# Scalar\n",
    "scalar = torch.tensor(7)\n",
    "scalar"
   ]
  },
  {
   "cell_type": "code",
   "execution_count": 4,
   "id": "721ab6b8-9cbd-4a39-833e-788e57e0af5e",
   "metadata": {},
   "outputs": [
    {
     "data": {
      "text/plain": [
       "0"
      ]
     },
     "execution_count": 4,
     "metadata": {},
     "output_type": "execute_result"
    }
   ],
   "source": [
    "scalar.ndim"
   ]
  },
  {
   "cell_type": "code",
   "execution_count": 5,
   "id": "ed247502-3b29-4fec-9f8f-4fd129eb22bc",
   "metadata": {},
   "outputs": [
    {
     "data": {
      "text/plain": [
       "7"
      ]
     },
     "execution_count": 5,
     "metadata": {},
     "output_type": "execute_result"
    }
   ],
   "source": [
    "scalar.item()"
   ]
  },
  {
   "cell_type": "code",
   "execution_count": 6,
   "id": "c55d1311-aa2d-4e21-8fef-67449affae29",
   "metadata": {},
   "outputs": [
    {
     "data": {
      "text/plain": [
       "tensor([7, 7])"
      ]
     },
     "execution_count": 6,
     "metadata": {},
     "output_type": "execute_result"
    }
   ],
   "source": [
    "# Vector\n",
    "vector = torch.tensor([7, 7])\n",
    "vector"
   ]
  },
  {
   "cell_type": "code",
   "execution_count": 7,
   "id": "5acbb719-c270-4360-8d49-e410def266e3",
   "metadata": {},
   "outputs": [
    {
     "data": {
      "text/plain": [
       "1"
      ]
     },
     "execution_count": 7,
     "metadata": {},
     "output_type": "execute_result"
    }
   ],
   "source": [
    "# Check the number of dimensions of vector\n",
    "vector.ndim"
   ]
  },
  {
   "cell_type": "code",
   "execution_count": 8,
   "id": "38888e34-0c4d-41b9-b1cb-3dce7691e37c",
   "metadata": {},
   "outputs": [
    {
     "data": {
      "text/plain": [
       "torch.Size([2])"
      ]
     },
     "execution_count": 8,
     "metadata": {},
     "output_type": "execute_result"
    }
   ],
   "source": [
    "# Check shape of vector\n",
    "vector.shape"
   ]
  },
  {
   "cell_type": "code",
   "execution_count": 9,
   "id": "3431d368-2b1b-4686-aa84-de5ec5f6298e",
   "metadata": {},
   "outputs": [
    {
     "data": {
      "text/plain": [
       "tensor([[ 7,  8],\n",
       "        [ 9, 10]])"
      ]
     },
     "execution_count": 9,
     "metadata": {},
     "output_type": "execute_result"
    }
   ],
   "source": [
    "# Matrix\n",
    "MATRIX = torch.tensor([[7, 8], \n",
    "                       [9, 10]])\n",
    "MATRIX"
   ]
  },
  {
   "cell_type": "code",
   "execution_count": 10,
   "id": "437733e8-daa0-490f-b8b2-d3a7cf26bfc1",
   "metadata": {},
   "outputs": [
    {
     "data": {
      "text/plain": [
       "2"
      ]
     },
     "execution_count": 10,
     "metadata": {},
     "output_type": "execute_result"
    }
   ],
   "source": [
    "# Check number of dimensions\n",
    "MATRIX.ndim"
   ]
  },
  {
   "cell_type": "code",
   "execution_count": 11,
   "id": "efee80a8-db7a-4029-ac10-f87f8230d4e9",
   "metadata": {},
   "outputs": [
    {
     "data": {
      "text/plain": [
       "torch.Size([2, 2])"
      ]
     },
     "execution_count": 11,
     "metadata": {},
     "output_type": "execute_result"
    }
   ],
   "source": [
    "MATRIX.shape"
   ]
  },
  {
   "cell_type": "code",
   "execution_count": 12,
   "id": "db8981ad-432b-4dda-897c-ae4106846588",
   "metadata": {},
   "outputs": [
    {
     "data": {
      "text/plain": [
       "tensor([[[1, 2, 3],\n",
       "         [3, 6, 9],\n",
       "         [2, 4, 5]]])"
      ]
     },
     "execution_count": 12,
     "metadata": {},
     "output_type": "execute_result"
    }
   ],
   "source": [
    "# Tensor\n",
    "TENSOR = torch.tensor([[[1, 2, 3],\n",
    "                        [3, 6, 9],\n",
    "                        [2, 4, 5]]])\n",
    "TENSOR"
   ]
  },
  {
   "cell_type": "code",
   "execution_count": 13,
   "id": "05ffe94e-f2c1-450d-9d84-c44ee566b60b",
   "metadata": {},
   "outputs": [
    {
     "data": {
      "text/plain": [
       "3"
      ]
     },
     "execution_count": 13,
     "metadata": {},
     "output_type": "execute_result"
    }
   ],
   "source": [
    "# Check number of dimensions for TENSOR\n",
    "TENSOR.ndim"
   ]
  },
  {
   "cell_type": "code",
   "execution_count": 14,
   "id": "f3a4d0b0-2c91-47d7-a2d1-272f3e68aafa",
   "metadata": {},
   "outputs": [
    {
     "data": {
      "text/plain": [
       "torch.Size([1, 3, 3])"
      ]
     },
     "execution_count": 14,
     "metadata": {},
     "output_type": "execute_result"
    }
   ],
   "source": [
    "# Check shape of TENSOR\n",
    "TENSOR.shape # That means there's 1 dimension of 3 by 3."
   ]
  },
  {
   "cell_type": "code",
   "execution_count": 15,
   "id": "ae64edfd-332c-4cc5-8413-8146a5b61acd",
   "metadata": {},
   "outputs": [],
   "source": [
    "# a 0-dimension tensor is a scalar, a 1-dimension tensor is a vector"
   ]
  },
  {
   "cell_type": "code",
   "execution_count": 16,
   "id": "2dd8b96f-abc2-496d-baa7-1224db7bd759",
   "metadata": {},
   "outputs": [
    {
     "name": "stdout",
     "output_type": "stream",
     "text": [
      "[[7 4 0 1]\n",
      " [1 9 2 3]\n",
      " [5 6 8 8]]\n"
     ]
    }
   ],
   "source": [
    "import numpy as np\n",
    "tensor = np.array([\n",
    "    [7, 4, 0, 1],\n",
    "    [1, 9, 2, 3],\n",
    "    [5, 6, 8, 8]\n",
    "])\n",
    "print(tensor)"
   ]
  },
  {
   "cell_type": "code",
   "execution_count": 17,
   "id": "2c3245be-8bf0-4a1b-b20f-24b4b47ad096",
   "metadata": {},
   "outputs": [
    {
     "name": "stdout",
     "output_type": "stream",
     "text": [
      "tensor([[7, 4, 0, 1],\n",
      "        [1, 9, 2, 3],\n",
      "        [5, 6, 8, 8]])\n"
     ]
    }
   ],
   "source": [
    "import torch\n",
    "tensor = torch.tensor([\n",
    "    [7, 4, 0, 1],\n",
    "    [1, 9, 2, 3],\n",
    "    [5, 6, 8, 8]\n",
    "])\n",
    "print(tensor)"
   ]
  },
  {
   "cell_type": "code",
   "execution_count": 18,
   "id": "bc13a241-5892-4339-a4ec-9ae033384266",
   "metadata": {},
   "outputs": [
    {
     "data": {
      "text/plain": [
       "(tensor([[0.2137, 0.7992, 0.7480, 0.6671],\n",
       "         [0.4998, 0.6313, 0.6772, 0.9711],\n",
       "         [0.5706, 0.0556, 0.4400, 0.0718]]),\n",
       " torch.float32)"
      ]
     },
     "execution_count": 18,
     "metadata": {},
     "output_type": "execute_result"
    }
   ],
   "source": [
    "# Create a random tensor of size (3, 4)\n",
    "random_tensor = torch.rand(size=(3, 4))\n",
    "random_tensor, random_tensor.dtype"
   ]
  },
  {
   "cell_type": "code",
   "execution_count": 19,
   "id": "807c89d2-b713-49c7-a7d3-a58147af0673",
   "metadata": {},
   "outputs": [
    {
     "data": {
      "text/plain": [
       "(torch.Size([224, 224, 3]), 3)"
      ]
     },
     "execution_count": 19,
     "metadata": {},
     "output_type": "execute_result"
    }
   ],
   "source": [
    "# Create a random tensor of size (224, 224, 3)\n",
    "random_image_size_tensor = torch.rand(size=(224, 224, 3))\n",
    "random_image_size_tensor.shape, random_image_size_tensor.ndim"
   ]
  },
  {
   "cell_type": "code",
   "execution_count": null,
   "id": "34a247b8-afc9-44cf-a53a-179652756f4e",
   "metadata": {},
   "outputs": [],
   "source": []
  },
  {
   "cell_type": "code",
   "execution_count": 20,
   "id": "5c14af2c-41bb-403a-a416-5468e36686a2",
   "metadata": {},
   "outputs": [
    {
     "data": {
      "text/plain": [
       "(tensor([[0., 0., 0., 0.],\n",
       "         [0., 0., 0., 0.],\n",
       "         [0., 0., 0., 0.]]),\n",
       " torch.float32)"
      ]
     },
     "execution_count": 20,
     "metadata": {},
     "output_type": "execute_result"
    }
   ],
   "source": [
    "# Create a tensor of all zeros\n",
    "zeros = torch.zeros(size=(3, 4))\n",
    "zeros, zeros.dtype"
   ]
  },
  {
   "cell_type": "code",
   "execution_count": 21,
   "id": "7ad1e9e3-df35-4c37-b11b-09650239355a",
   "metadata": {},
   "outputs": [
    {
     "data": {
      "text/plain": [
       "(tensor([[1., 1., 1., 1.],\n",
       "         [1., 1., 1., 1.],\n",
       "         [1., 1., 1., 1.]]),\n",
       " torch.float32)"
      ]
     },
     "execution_count": 21,
     "metadata": {},
     "output_type": "execute_result"
    }
   ],
   "source": [
    "# Create a tensor of all ones\n",
    "ones = torch.ones(size=(3, 4))\n",
    "ones, ones.dtype"
   ]
  },
  {
   "cell_type": "code",
   "execution_count": 22,
   "id": "dbc5431f-6b90-468e-9c9d-b372266666d1",
   "metadata": {},
   "outputs": [],
   "source": [
    "# You can use torch.arange(start, end, step) to do so.\n",
    "\n",
    "# Where:\n",
    "#    start = start of range (e.g. 0)\n",
    "#    end = end of range (e.g. 10)\n",
    "#    step = how many steps in between each value (e.g. 1)"
   ]
  },
  {
   "cell_type": "code",
   "execution_count": 23,
   "id": "c97365fe-87b6-41d5-8a31-d58d24e290f2",
   "metadata": {},
   "outputs": [
    {
     "name": "stderr",
     "output_type": "stream",
     "text": [
      "/tmp/ipykernel_1358161/193451495.py:2: UserWarning: torch.range is deprecated and will be removed in a future release because its behavior is inconsistent with Python's range builtin. Instead, use torch.arange, which produces values in [start, end).\n",
      "  zero_to_ten_deprecated = torch.range(0, 10) # Note: this may return an error in the future\n"
     ]
    },
    {
     "data": {
      "text/plain": [
       "tensor([0, 1, 2, 3, 4, 5, 6, 7, 8, 9])"
      ]
     },
     "execution_count": 23,
     "metadata": {},
     "output_type": "execute_result"
    }
   ],
   "source": [
    "# Use torch.arange(), torch.range() is deprecated \n",
    "zero_to_ten_deprecated = torch.range(0, 10) # Note: this may return an error in the future\n",
    "\n",
    "# Create a range of values 0 to 10\n",
    "zero_to_ten = torch.arange(start=0, end=10, step=1)\n",
    "zero_to_ten"
   ]
  },
  {
   "cell_type": "code",
   "execution_count": 74,
   "id": "b170c0de-a38a-49c4-884e-8926c28e78c3",
   "metadata": {},
   "outputs": [
    {
     "name": "stdout",
     "output_type": "stream",
     "text": [
      "Tensor datatypes\n"
     ]
    }
   ],
   "source": [
    "print(\"Tensor datatypes\")"
   ]
  },
  {
   "cell_type": "code",
   "execution_count": 24,
   "id": "eeff5cb8-4171-4b1e-b222-fd7c980f0a65",
   "metadata": {},
   "outputs": [],
   "source": [
    "# Tensor datatypes\n",
    "\n",
    "# The most common type (and generally the default) is torch.float32 or torch.float.\n",
    "# This is referred to as \"32-bit floating point\".\n",
    "# But there's also 16-bit floating point (torch.float16 or torch.half) and 64-bit floating point (torch.float64 or torch.double).\n",
    "# And to confuse things even more there's also 8-bit, 16-bit, 32-bit and 64-bit integers."
   ]
  },
  {
   "cell_type": "code",
   "execution_count": 25,
   "id": "2588559e-887a-4ac5-994f-22d099c690a0",
   "metadata": {},
   "outputs": [
    {
     "data": {
      "text/plain": [
       "(torch.Size([3]), torch.float32, device(type='cpu'))"
      ]
     },
     "execution_count": 25,
     "metadata": {},
     "output_type": "execute_result"
    }
   ],
   "source": [
    "# Default datatype for tensors is float32\n",
    "float_32_tensor = torch.tensor([3.0, 6.0, 9.0],\n",
    "                               dtype=None, # defaults to None, which is torch.float32 or whatever datatype is passed\n",
    "                               device=None, # defaults to None, which uses the default tensor type\n",
    "                               requires_grad=False) # if True, operations performed on the tensor are recorded \n",
    "\n",
    "float_32_tensor.shape, float_32_tensor.dtype, float_32_tensor.device"
   ]
  },
  {
   "cell_type": "code",
   "execution_count": 26,
   "id": "5e2efd9b-ac6d-4ec5-b990-7a4912194879",
   "metadata": {},
   "outputs": [
    {
     "name": "stdout",
     "output_type": "stream",
     "text": [
      "information from tensors\n"
     ]
    }
   ],
   "source": [
    "print(\"Information from tensors\")"
   ]
  },
  {
   "cell_type": "code",
   "execution_count": 27,
   "id": "d9b92be7-af52-4b87-9a64-9ca9a62703ee",
   "metadata": {},
   "outputs": [
    {
     "name": "stdout",
     "output_type": "stream",
     "text": [
      "tensor([[0.9122, 0.2108, 0.4392, 0.2230],\n",
      "        [0.3814, 0.1898, 0.6409, 0.0638],\n",
      "        [0.7711, 0.6973, 0.1502, 0.1873]])\n",
      "Shape of tensor: torch.Size([3, 4])\n",
      "Datatype of tensor: torch.float32\n",
      "Device tensor is stored on: cpu\n"
     ]
    }
   ],
   "source": [
    "# Create a tensor\n",
    "some_tensor = torch.rand(3, 4)\n",
    "\n",
    "# Find out details about it\n",
    "print(some_tensor)\n",
    "print(f\"Shape of tensor: {some_tensor.shape}\")\n",
    "print(f\"Datatype of tensor: {some_tensor.dtype}\")\n",
    "print(f\"Device tensor is stored on: {some_tensor.device}\") # will default to CPU"
   ]
  },
  {
   "cell_type": "code",
   "execution_count": null,
   "id": "78506a3e-9784-47fb-904c-b4b03c7e0013",
   "metadata": {},
   "outputs": [],
   "source": []
  },
  {
   "cell_type": "code",
   "execution_count": 28,
   "id": "758ebe96-7bf9-452f-a339-e71ee2edfdd5",
   "metadata": {},
   "outputs": [
    {
     "name": "stdout",
     "output_type": "stream",
     "text": [
      "Manipulating tensors : tensor operations\n"
     ]
    }
   ],
   "source": [
    "print(\"Manipulating tensors : tensor operations\")"
   ]
  },
  {
   "cell_type": "code",
   "execution_count": 29,
   "id": "b2685572-153c-4c99-8a03-08655f635963",
   "metadata": {},
   "outputs": [
    {
     "data": {
      "text/plain": [
       "tensor([11, 12, 13])"
      ]
     },
     "execution_count": 29,
     "metadata": {},
     "output_type": "execute_result"
    }
   ],
   "source": [
    "# Create a tensor of values and add a number to it\n",
    "tensor = torch.tensor([1, 2, 3])\n",
    "tensor + 10"
   ]
  },
  {
   "cell_type": "code",
   "execution_count": 30,
   "id": "100acb78-a8b9-4183-af89-26726db56434",
   "metadata": {},
   "outputs": [
    {
     "data": {
      "text/plain": [
       "tensor([10, 20, 30])"
      ]
     },
     "execution_count": 30,
     "metadata": {},
     "output_type": "execute_result"
    }
   ],
   "source": [
    "# Multiply it by 10\n",
    "tensor * 10"
   ]
  },
  {
   "cell_type": "code",
   "execution_count": 31,
   "id": "89a7ba66-194f-49bc-9dee-f2c1ae6da710",
   "metadata": {},
   "outputs": [
    {
     "data": {
      "text/plain": [
       "tensor([1, 2, 3])"
      ]
     },
     "execution_count": 31,
     "metadata": {},
     "output_type": "execute_result"
    }
   ],
   "source": [
    "# Tensors don't change unless reassigned\n",
    "tensor"
   ]
  },
  {
   "cell_type": "code",
   "execution_count": 32,
   "id": "9302af45-21b4-4212-b348-eee93edc1b94",
   "metadata": {},
   "outputs": [
    {
     "data": {
      "text/plain": [
       "tensor([-9, -8, -7])"
      ]
     },
     "execution_count": 32,
     "metadata": {},
     "output_type": "execute_result"
    }
   ],
   "source": [
    "# Subtract and reassign\n",
    "tensor = tensor - 10\n",
    "tensor"
   ]
  },
  {
   "cell_type": "code",
   "execution_count": 33,
   "id": "c34d790d-495f-4856-91f3-7ce13adecb91",
   "metadata": {},
   "outputs": [
    {
     "data": {
      "text/plain": [
       "tensor([1, 2, 3])"
      ]
     },
     "execution_count": 33,
     "metadata": {},
     "output_type": "execute_result"
    }
   ],
   "source": [
    "# Add and reassign\n",
    "tensor = tensor + 10\n",
    "tensor"
   ]
  },
  {
   "cell_type": "code",
   "execution_count": 34,
   "id": "7be69da4-0c62-40fe-a2d3-3f8add54115c",
   "metadata": {},
   "outputs": [
    {
     "data": {
      "text/plain": [
       "tensor([10, 20, 30])"
      ]
     },
     "execution_count": 34,
     "metadata": {},
     "output_type": "execute_result"
    }
   ],
   "source": [
    "# Can also use torch functions\n",
    "torch.multiply(tensor, 10)"
   ]
  },
  {
   "cell_type": "code",
   "execution_count": 35,
   "id": "daf3648f-fc59-4cbe-be18-55c4bf616a73",
   "metadata": {},
   "outputs": [
    {
     "data": {
      "text/plain": [
       "tensor([1, 2, 3])"
      ]
     },
     "execution_count": 35,
     "metadata": {},
     "output_type": "execute_result"
    }
   ],
   "source": [
    "# Original tensor is still unchanged \n",
    "tensor"
   ]
  },
  {
   "cell_type": "code",
   "execution_count": 36,
   "id": "52377480-ab73-47d6-87ce-9623eb56d312",
   "metadata": {},
   "outputs": [
    {
     "name": "stdout",
     "output_type": "stream",
     "text": [
      "tensor([1, 2, 3]) * tensor([1, 2, 3])\n",
      "Equals: tensor([1, 4, 9])\n"
     ]
    }
   ],
   "source": [
    "# Element-wise multiplication (each element multiplies its equivalent, index 0->0, 1->1, 2->2)\n",
    "print(tensor, \"*\", tensor)\n",
    "print(\"Equals:\", tensor * tensor)"
   ]
  },
  {
   "cell_type": "code",
   "execution_count": 37,
   "id": "4eddbfa9-6853-4cd4-9870-ff91f0eb2bc0",
   "metadata": {},
   "outputs": [
    {
     "name": "stdout",
     "output_type": "stream",
     "text": [
      "Matrix multiplication (is all you need)\n"
     ]
    }
   ],
   "source": [
    "print(\"Matrix multiplication (is all you need)\")"
   ]
  },
  {
   "cell_type": "code",
   "execution_count": 38,
   "id": "473ea592-b854-4a94-bce1-f31f44ef8f70",
   "metadata": {},
   "outputs": [
    {
     "name": "stdout",
     "output_type": "stream",
     "text": [
      "\n",
      "The main two rules for matrix multiplication to remember are:\n",
      "\n",
      "    The inner dimensions must match:\n",
      "\n",
      "    (3, 2) @ (3, 2) won't work\n",
      "    (2, 3) @ (3, 2) will work\n",
      "    (3, 2) @ (2, 3) will work\n",
      "\n",
      "    The resulting matrix has the shape of the outer dimensions:\n",
      "\n",
      "    (2, 3) @ (3, 2) -> (2, 2)\n",
      "    (3, 2) @ (2, 3) -> (3, 3)\n",
      "\n"
     ]
    }
   ],
   "source": [
    "print('''\n",
    "The main two rules for matrix multiplication to remember are:\n",
    "\n",
    "    The inner dimensions must match:\n",
    "\n",
    "    (3, 2) @ (3, 2) won't work\n",
    "    (2, 3) @ (3, 2) will work\n",
    "    (3, 2) @ (2, 3) will work\n",
    "\n",
    "    The resulting matrix has the shape of the outer dimensions:\n",
    "\n",
    "    (2, 3) @ (3, 2) -> (2, 2)\n",
    "    (3, 2) @ (2, 3) -> (3, 3)\n",
    "''')\n",
    "\n",
    "# @\" in Python is the symbol for matrix multiplication."
   ]
  },
  {
   "cell_type": "code",
   "execution_count": 39,
   "id": "ddeff121-2025-492f-9fd6-f0ffce929e34",
   "metadata": {},
   "outputs": [
    {
     "data": {
      "text/plain": [
       "torch.Size([3])"
      ]
     },
     "execution_count": 39,
     "metadata": {},
     "output_type": "execute_result"
    }
   ],
   "source": [
    "import torch\n",
    "tensor = torch.tensor([1, 2, 3])\n",
    "tensor.shape"
   ]
  },
  {
   "cell_type": "code",
   "execution_count": 40,
   "id": "82dbb336-26a0-4795-96f5-d301e238c278",
   "metadata": {},
   "outputs": [
    {
     "name": "stdout",
     "output_type": "stream",
     "text": [
      "The difference between element-wise multiplication and matrix multiplication is the addition of values\n",
      "tensor: tensor([1, 2, 3])\n"
     ]
    }
   ],
   "source": [
    "print(\"The difference between element-wise multiplication and matrix multiplication is the addition of values\")\n",
    "\n",
    "# Operation \tCalculation \tCode\n",
    "# Element-wise multiplication \t[1*1, 2*2, 3*3] = [1, 4, 9] \ttensor * tensor\n",
    "# Matrix multiplication \t[1*1 + 2*2 + 3*3] = [14] \ttensor.matmul(tensor)\n",
    "\n",
    "print(\"tensor:\", tensor)"
   ]
  },
  {
   "cell_type": "code",
   "execution_count": 41,
   "id": "28fbc244-1be2-46fe-a98d-7afcdb4cb653",
   "metadata": {},
   "outputs": [
    {
     "data": {
      "text/plain": [
       "tensor([1, 4, 9])"
      ]
     },
     "execution_count": 41,
     "metadata": {},
     "output_type": "execute_result"
    }
   ],
   "source": [
    "# Element-wise matrix multiplication\n",
    "tensor * tensor"
   ]
  },
  {
   "cell_type": "code",
   "execution_count": 42,
   "id": "c924a8c1-c177-494f-a736-b4fe92d50a0b",
   "metadata": {},
   "outputs": [
    {
     "data": {
      "text/plain": [
       "tensor(14)"
      ]
     },
     "execution_count": 42,
     "metadata": {},
     "output_type": "execute_result"
    }
   ],
   "source": [
    "# Matrix multiplication\n",
    "torch.matmul(tensor, tensor)"
   ]
  },
  {
   "cell_type": "code",
   "execution_count": null,
   "id": "5b3ee79d-6ac8-41f0-a677-713def28cb76",
   "metadata": {},
   "outputs": [],
   "source": []
  },
  {
   "cell_type": "code",
   "execution_count": 43,
   "id": "9ad32c5c-a377-4027-aa9b-57b0161fd581",
   "metadata": {},
   "outputs": [
    {
     "name": "stdout",
     "output_type": "stream",
     "text": [
      "\n",
      "The dot product (also called the scalar product) is one of the most fundamental operations in linear algebra, \n",
      "and it comes up everywhere in AI, bioinformatics, and deep learning.\n",
      "\n",
      "\n",
      "\n",
      "Let’s go step by step 👇\n",
      "\n",
      "🔹 Definition\n",
      "\n",
      "If you have two vectors of the same length:\n",
      "\n",
      "a=[a1,a2,a3,…,an]\n",
      "b=[b1,b2,b3,…,bn]\n",
      "\n",
      "then their dot product is defined as:\n",
      "\n",
      "a⋅b = a1b1 + a2b2 + a3b3 + … + anbn\n",
      "\n",
      "It produces a single scalar number, not another vector.\n",
      "\n",
      "🔹 Example\n",
      "\n",
      "Let’s take the two vectors you had:\n",
      "\n",
      "\n",
      "a=[1,2,3]\n",
      "b=[1,2,3]\n",
      "\n",
      "Then:\n",
      "\n",
      "a⋅b=1∗1+2∗2+3∗3=1+4+9=14\n",
      "a⋅b=1∗1+2∗2+3∗3=1+4+9=14\n",
      "\n",
      "\n"
     ]
    }
   ],
   "source": [
    "print('''\n",
    "The dot product (also called the scalar product) is one of the most fundamental operations in linear algebra, \n",
    "and it comes up everywhere in AI, bioinformatics, and deep learning.\n",
    "''')\n",
    "\n",
    "print('''\n",
    "\n",
    "Let’s go step by step 👇\n",
    "\n",
    "🔹 Definition\n",
    "\n",
    "If you have two vectors of the same length:\n",
    "\n",
    "a=[a1,a2,a3,…,an]\n",
    "b=[b1,b2,b3,…,bn]\n",
    "\n",
    "then their dot product is defined as:\n",
    "\n",
    "a⋅b = a1b1 + a2b2 + a3b3 + … + anbn\n",
    "\n",
    "It produces a single scalar number, not another vector.\n",
    "\n",
    "🔹 Example\n",
    "\n",
    "Let’s take the two vectors you had:\n",
    "\n",
    "\n",
    "a=[1,2,3]\n",
    "b=[1,2,3]\n",
    "\n",
    "Then:\n",
    "\n",
    "a⋅b=1∗1+2∗2+3∗3=1+4+9=14\n",
    "a⋅b=1∗1+2∗2+3∗3=1+4+9=14\n",
    "\n",
    "''')"
   ]
  },
  {
   "cell_type": "code",
   "execution_count": 44,
   "id": "84bb2575-8462-4c13-b1bd-14bfed197203",
   "metadata": {},
   "outputs": [
    {
     "data": {
      "text/plain": [
       "tensor(14)"
      ]
     },
     "execution_count": 44,
     "metadata": {},
     "output_type": "execute_result"
    }
   ],
   "source": [
    "# Element-wise matrix multiplication\n",
    "tensor * tensor\n",
    "\n",
    "# Matrix multiplication\n",
    "torch.matmul(tensor, tensor)\n",
    "\n",
    "# Can also use the \"@\" symbol for matrix multiplication, though not recommended\n",
    "tensor @ tensor"
   ]
  },
  {
   "cell_type": "code",
   "execution_count": 45,
   "id": "8f0bd267-cc37-4741-a615-09751104fd27",
   "metadata": {},
   "outputs": [
    {
     "name": "stdout",
     "output_type": "stream",
     "text": [
      "CPU times: user 3 μs, sys: 1 μs, total: 4 μs\n",
      "Wall time: 5.48 μs\n",
      "CPU times: user 78 μs, sys: 0 ns, total: 78 μs\n",
      "Wall time: 80.8 μs\n"
     ]
    }
   ],
   "source": [
    "# You can do matrix multiplication by hand but it's not recommended.\n",
    "# The in-built torch.matmul() method is faster.\n",
    "\n",
    "%time\n",
    "\n",
    "# Matrix multiplication by hand \n",
    "\n",
    "# (avoid doing operations with for loops at all cost, they are computationally expensive)\n",
    "value = 0\n",
    "for i in range(len(tensor)):\n",
    "  value += tensor[i] * tensor[i]\n",
    "value\n",
    "\n",
    "%time value = sum(tensor[i] * tensor[i] for i in range(len(tensor)))"
   ]
  },
  {
   "cell_type": "code",
   "execution_count": 46,
   "id": "12c47e08-81f3-4c0f-9b09-ae934a1e2900",
   "metadata": {},
   "outputs": [
    {
     "name": "stdout",
     "output_type": "stream",
     "text": [
      "CPU times: user 76 μs, sys: 0 ns, total: 76 μs\n",
      "Wall time: 77.5 μs\n"
     ]
    },
    {
     "data": {
      "text/plain": [
       "tensor(14)"
      ]
     },
     "execution_count": 46,
     "metadata": {},
     "output_type": "execute_result"
    }
   ],
   "source": [
    "%%time\n",
    "torch.matmul(tensor, tensor)"
   ]
  },
  {
   "cell_type": "code",
   "execution_count": 78,
   "id": "7bb0371b-16a2-42ef-9d3a-ee314fc53072",
   "metadata": {},
   "outputs": [
    {
     "name": "stdout",
     "output_type": "stream",
     "text": [
      "tensor([[ 9., 12., 15.],\n",
      "        [19., 26., 33.],\n",
      "        [29., 40., 51.]])\n",
      "Result shape: torch.Size([3, 3])\n",
      "Execution time: 9.223 ms\n"
     ]
    }
   ],
   "source": [
    "import torch, time\n",
    "\n",
    "# Define two matrices\n",
    "tensor = torch.tensor([[1., 2.],\n",
    "                       [3., 4.],\n",
    "                       [5., 6.]])   # shape (3, 2)\n",
    "\n",
    "tensor2 = torch.tensor([[1., 2., 3.],\n",
    "                        [4., 5., 6.]])   # shape (2, 3)\n",
    "\n",
    "# Measure execution time manually\n",
    "start = time.time()\n",
    "result = torch.mm(tensor, tensor2)\n",
    "end = time.time()\n",
    "\n",
    "print(result)\n",
    "print(\"Result shape:\", result.shape)\n",
    "print(f\"Execution time: {(end - start)*1000:.3f} ms\")\n",
    "\n",
    "# torch.matmul(tensor, tensor) is more general: with two 1-D inputs it computes the dot product, so it works and returns tensor(14).\n",
    "# torch.mm(tensor, tensor) requires both args to be shape (m, n) and (n, p). With a 1-D vector it raises RuntimeError: self must be a matrix."
   ]
  },
  {
   "cell_type": "code",
   "execution_count": 79,
   "id": "0479a2bd-dc81-4589-8822-1b673cf7e6a4",
   "metadata": {},
   "outputs": [],
   "source": [
    "# Operator\tFunction\tInput dimensions\tBest for\tNotes\n",
    "# @\tPython operator for matrix multiplication\tFollows the same rules as torch.matmul\tGeneral use\tMost readable; recommended for most code\n",
    "# torch.mm(a, b)\tStrict matrix × matrix multiply\tBoth must be 2D: (m × n) @ (n × p)\tWhen you know both tensors are 2D\tSlightly faster, lower overhead\n",
    "# torch.matmul(a, b)\tGeneralized matrix multiply\tWorks for 1D, 2D, batched (3D+)\tFlexible for vectors, matrices, or batches\tSafest for dynamic tensor shapes"
   ]
  },
  {
   "cell_type": "code",
   "execution_count": 47,
   "id": "ccebc8f7-29d7-46da-8c45-3d20899d6254",
   "metadata": {},
   "outputs": [
    {
     "name": "stdout",
     "output_type": "stream",
     "text": [
      "Transposition in PyTorch\n",
      "\n",
      "You can perform transposes in PyTorch using either:\n",
      "\n",
      "    torch.transpose(input, dim0, dim1) - where input is the desired tensor to transpose and dim0 and dim1 are the dimensions to be swapped.\n",
      "    tensor.T - where tensor is the desired tensor to transpose.\n",
      "\n"
     ]
    }
   ],
   "source": [
    "print(\"Transposition in PyTorch\")\n",
    "\n",
    "print('''\n",
    "You can perform transposes in PyTorch using either:\n",
    "\n",
    "    torch.transpose(input, dim0, dim1) - where input is the desired tensor to transpose and dim0 and dim1 are the dimensions to be swapped.\n",
    "    tensor.T - where tensor is the desired tensor to transpose.\n",
    "''')"
   ]
  },
  {
   "cell_type": "code",
   "execution_count": 80,
   "id": "e1239727-dca9-4f42-8163-0c9d57b57bd5",
   "metadata": {},
   "outputs": [
    {
     "name": "stdout",
     "output_type": "stream",
     "text": [
      "tensor([[1., 2.],\n",
      "        [3., 4.],\n",
      "        [5., 6.]])\n",
      "tensor([[ 7., 10.],\n",
      "        [ 8., 11.],\n",
      "        [ 9., 12.]])\n"
     ]
    }
   ],
   "source": [
    "# Shapes need to be in the right way  \n",
    "tensor_A = torch.tensor([[1, 2],\n",
    "                         [3, 4],\n",
    "                         [5, 6]], dtype=torch.float32)\n",
    "\n",
    "tensor_B = torch.tensor([[7, 10],\n",
    "                         [8, 11], \n",
    "                         [9, 12]], dtype=torch.float32)\n",
    "\n",
    "# View tensor_A and tensor_B\n",
    "print(tensor_A)\n",
    "print(tensor_B)"
   ]
  },
  {
   "cell_type": "code",
   "execution_count": 81,
   "id": "47cb1f35-d594-43e0-a6a5-23130ba06caf",
   "metadata": {},
   "outputs": [
    {
     "name": "stdout",
     "output_type": "stream",
     "text": [
      "tensor([[1., 2.],\n",
      "        [3., 4.],\n",
      "        [5., 6.]])\n",
      "tensor([[ 7.,  8.,  9.],\n",
      "        [10., 11., 12.]])\n"
     ]
    }
   ],
   "source": [
    "# View tensor_A and tensor_B.T\n",
    "print(tensor_A)\n",
    "print(tensor_B.T)"
   ]
  },
  {
   "cell_type": "code",
   "execution_count": 82,
   "id": "2661a028-7822-4705-9057-24a93ac04874",
   "metadata": {},
   "outputs": [
    {
     "name": "stdout",
     "output_type": "stream",
     "text": [
      "Original shapes: tensor_A = torch.Size([3, 2]), tensor_B = torch.Size([3, 2])\n",
      "\n",
      "New shapes: tensor_A = torch.Size([3, 2]) (same as above), tensor_B.T = torch.Size([2, 3])\n",
      "\n",
      "Multiplying: torch.Size([3, 2]) * torch.Size([2, 3]) <- inner dimensions match\n",
      "\n",
      "Output:\n",
      "\n",
      "tensor([[ 27.,  30.,  33.],\n",
      "        [ 61.,  68.,  75.],\n",
      "        [ 95., 106., 117.]])\n",
      "\n",
      "Output shape: torch.Size([3, 3])\n"
     ]
    }
   ],
   "source": [
    "# The operation works when tensor_B is transposed\n",
    "print(f\"Original shapes: tensor_A = {tensor_A.shape}, tensor_B = {tensor_B.shape}\\n\")\n",
    "print(f\"New shapes: tensor_A = {tensor_A.shape} (same as above), tensor_B.T = {tensor_B.T.shape}\\n\")\n",
    "print(f\"Multiplying: {tensor_A.shape} * {tensor_B.T.shape} <- inner dimensions match\\n\")\n",
    "print(\"Output:\\n\")\n",
    "output = torch.matmul(tensor_A, tensor_B.T)\n",
    "print(output) \n",
    "print(f\"\\nOutput shape: {output.shape}\")"
   ]
  },
  {
   "cell_type": "code",
   "execution_count": 83,
   "id": "20546b3e-3738-4fb2-be5a-39e2c2a48e9d",
   "metadata": {},
   "outputs": [
    {
     "name": "stdout",
     "output_type": "stream",
     "text": [
      "You can also use torch.mm() which is a short for torch.matmul().\n",
      "Note: A matrix multiplication like this is also referred to as the dot product of two matrices.\n"
     ]
    }
   ],
   "source": [
    "print(\"You can also use torch.mm() which is a short for torch.matmul().\")\n",
    "# http://matrixmultiplication.xyz/\n",
    "print(\"Note: A matrix multiplication like this is also referred to as the dot product of two matrices.\")"
   ]
  },
  {
   "cell_type": "code",
   "execution_count": 84,
   "id": "c61fcd3f-ab1b-48f7-b919-96fe1e6656a1",
   "metadata": {},
   "outputs": [
    {
     "data": {
      "text/plain": [
       "tensor([[ 27.,  30.,  33.],\n",
       "        [ 61.,  68.,  75.],\n",
       "        [ 95., 106., 117.]])"
      ]
     },
     "execution_count": 84,
     "metadata": {},
     "output_type": "execute_result"
    }
   ],
   "source": [
    "# torch.mm is a shortcut for matmul\n",
    "torch.mm(tensor_A, tensor_B.T)"
   ]
  },
  {
   "cell_type": "code",
   "execution_count": 85,
   "id": "d22b9a0a-1f69-4126-9241-763f116623eb",
   "metadata": {},
   "outputs": [
    {
     "name": "stdout",
     "output_type": "stream",
     "text": [
      "\n",
      "\n",
      "The torch.nn.Linear() module (we'll see this in action later on), also known as a feed-forward layer \n",
      "or fully connected layer, implements a matrix multiplication between an input x and a weights matrix A.\n",
      "\n",
      "\n"
     ]
    }
   ],
   "source": [
    "print('''\n",
    "\n",
    "The torch.nn.Linear() module (we'll see this in action later on), also known as a feed-forward layer \n",
    "or fully connected layer, implements a matrix multiplication between an input x and a weights matrix A.\n",
    "\n",
    "''')"
   ]
  },
  {
   "cell_type": "code",
   "execution_count": 86,
   "id": "87aed8c2-c2d7-46b7-858d-54a55384058c",
   "metadata": {},
   "outputs": [
    {
     "name": "stdout",
     "output_type": "stream",
     "text": [
      "\n",
      "\n",
      "A very neural network layer is basically a way to transform an input vector into an output vector — \n",
      "using matrix multiplication (a generalization of dot products) plus a bias shift.\n",
      "\n",
      "So, when we say:\n",
      "\n",
      "y=x⋅AT+b\n",
      "\n",
      "we’re describing what happens inside one fully connected (dense) layer.\n",
      "\n",
      "🔹 Step 1: The ingredients\n",
      "\n",
      "x → the input vector (features)\n",
      "\n",
      "Example: if you have 3 input features → \n",
      "\n",
      "x=[x1,x2,x3]\n",
      "\n",
      "A → the weight matrix\n",
      "\n",
      "Each row (or column, depending on convention) corresponds to the weights for one neuron.\n",
      "\n",
      "Shape: [output_dim, input_dim]\n",
      "\n",
      "b → the bias vector\n",
      "\n",
      "One bias per output neuron.\n",
      "\n",
      "y → the output vector\n",
      "\n",
      "Computed as the weighted sum of inputs plus the bias.\n",
      "\n",
      "\n"
     ]
    }
   ],
   "source": [
    "print('''\n",
    "\n",
    "A very neural network layer is basically a way to transform an input vector into an output vector — \n",
    "using matrix multiplication (a generalization of dot products) plus a bias shift.\n",
    "\n",
    "So, when we say:\n",
    "\n",
    "y=x⋅AT+b\n",
    "\n",
    "we’re describing what happens inside one fully connected (dense) layer.\n",
    "\n",
    "🔹 Step 1: The ingredients\n",
    "\n",
    "x → the input vector (features)\n",
    "\n",
    "Example: if you have 3 input features → \n",
    "\n",
    "x=[x1,x2,x3]\n",
    "\n",
    "A → the weight matrix\n",
    "\n",
    "Each row (or column, depending on convention) corresponds to the weights for one neuron.\n",
    "\n",
    "Shape: [output_dim, input_dim]\n",
    "\n",
    "b → the bias vector\n",
    "\n",
    "One bias per output neuron.\n",
    "\n",
    "y → the output vector\n",
    "\n",
    "Computed as the weighted sum of inputs plus the bias.\n",
    "\n",
    "''')"
   ]
  },
  {
   "cell_type": "code",
   "execution_count": 87,
   "id": "06a40e4b-784b-4da5-a93f-5e2633816fdd",
   "metadata": {},
   "outputs": [
    {
     "name": "stdout",
     "output_type": "stream",
     "text": [
      "\n",
      "\n",
      "Matrix multiplication is just a compact way to perform all these dot products at once.\n",
      "\n",
      "Each neuron = one dot product.\n",
      "\n",
      "A layer = many neurons.\n",
      "\n",
      "So we can represent the entire layer as one matrix multiply:\n",
      "\n",
      "y = torch.matmul(x, A.T) + b\n",
      "\n",
      "or \n",
      "\n",
      "layer = torch.nn.Linear(in_features=3, out_features=2)\n",
      "\n",
      "y = layer(x)\n",
      "\n",
      "\n"
     ]
    }
   ],
   "source": [
    "print('''\n",
    "\n",
    "Matrix multiplication is just a compact way to perform all these dot products at once.\n",
    "\n",
    "Each neuron = one dot product.\n",
    "\n",
    "A layer = many neurons.\n",
    "\n",
    "So we can represent the entire layer as one matrix multiply:\n",
    "\n",
    "y = torch.matmul(x, A.T) + b\n",
    "\n",
    "or \n",
    "\n",
    "layer = torch.nn.Linear(in_features=3, out_features=2)\n",
    "\n",
    "y = layer(x)\n",
    "\n",
    "''')"
   ]
  },
  {
   "cell_type": "code",
   "execution_count": 88,
   "id": "857e8dc9-e834-4fd9-a360-7c3355bd8e95",
   "metadata": {},
   "outputs": [
    {
     "name": "stdout",
     "output_type": "stream",
     "text": [
      "\n",
      "    x is the input to the layer (deep learning is a stack of layers like torch.nn.Linear() and others on top of each other).\n",
      "    \n",
      "    A is the weights matrix created by the layer, this starts out as random numbers that get adjusted as a neural network learns to better represent patterns in the data (notice the \"T\", that's because the weights matrix gets transposed).\n",
      "    \n",
      "        Note: You might also often see W or another letter like X used to showcase the weights matrix.\n",
      "    \n",
      "    b is the bias term used to slightly offset the weights and inputs.\n",
      "    \n",
      "    y is the output (a manipulation of the input in the hopes to discover patterns in it).\n",
      "\n",
      "\n"
     ]
    }
   ],
   "source": [
    "print('''\n",
    "    x is the input to the layer (deep learning is a stack of layers like torch.nn.Linear() and others on top of each other).\n",
    "    \n",
    "    A is the weights matrix created by the layer, this starts out as random numbers that get adjusted as a neural network learns to better represent patterns in the data (notice the \"T\", that's because the weights matrix gets transposed).\n",
    "    \n",
    "        Note: You might also often see W or another letter like X used to showcase the weights matrix.\n",
    "    \n",
    "    b is the bias term used to slightly offset the weights and inputs.\n",
    "    \n",
    "    y is the output (a manipulation of the input in the hopes to discover patterns in it).\n",
    "\n",
    "''')"
   ]
  },
  {
   "cell_type": "code",
   "execution_count": 89,
   "id": "c838e60b-3f69-4fac-94e8-080a64e0ab91",
   "metadata": {},
   "outputs": [
    {
     "name": "stdout",
     "output_type": "stream",
     "text": [
      "\n",
      "\n",
      "What Is an Affine Transformation?\n",
      "\n",
      "An affine transformation is a function that applies a linear transformation (matrix multiplication) plus a translation (bias).\n",
      "\n",
      "In vector form:\n",
      "\n",
      "y = Ax + b\n",
      "\n",
      "where:\n",
      "\n",
      "x is the input vector\n",
      "\n",
      "A is a matrix that applies scaling, rotation, shearing, etc.\n",
      "\n",
      "b is a bias (translation) vector that shifts the result.\n",
      "\n",
      "\n",
      "\n",
      "\n",
      "Difference Between Linear and Affine Transformations\n",
      "\n",
      "Type\tFormula\tIncludes Translation?\tExample\n",
      "\n",
      "Linear\t\n",
      "y=Ax\n",
      "y=Ax\t❌ No\tRotation, scaling about origin\n",
      "\n",
      "Affine\t\n",
      "y=Ax+b\n",
      "y=Ax+b\t✅ Yes\tRotation, scaling, and translation\n",
      "\n",
      "\n"
     ]
    }
   ],
   "source": [
    "print('''\n",
    "\n",
    "What Is an Affine Transformation?\n",
    "\n",
    "An affine transformation is a function that applies a linear transformation (matrix multiplication) plus a translation (bias).\n",
    "\n",
    "In vector form:\n",
    "\n",
    "y = Ax + b\n",
    "\n",
    "where:\n",
    "\n",
    "x is the input vector\n",
    "\n",
    "A is a matrix that applies scaling, rotation, shearing, etc.\n",
    "\n",
    "b is a bias (translation) vector that shifts the result.\n",
    "\n",
    "''')\n",
    "\n",
    "print(\n",
    "    \n",
    "'''\n",
    "\n",
    "Difference Between Linear and Affine Transformations\n",
    "\n",
    "Type\tFormula\tIncludes Translation?\tExample\n",
    "\n",
    "Linear\t\n",
    "y=Ax\n",
    "y=Ax\t❌ No\tRotation, scaling about origin\n",
    "\n",
    "Affine\t\n",
    "y=Ax+b\n",
    "y=Ax+b\t✅ Yes\tRotation, scaling, and translation\n",
    "\n",
    "''')"
   ]
  },
  {
   "cell_type": "code",
   "execution_count": 90,
   "id": "6592239d-8d1a-40cf-bc63-0c1ba830ed8a",
   "metadata": {},
   "outputs": [
    {
     "name": "stdout",
     "output_type": "stream",
     "text": [
      "tensor([[1., 2.],\n",
      "        [3., 4.],\n",
      "        [5., 6.]])\n",
      "Input shape: torch.Size([3, 2])\n",
      "\n",
      "Output:\n",
      "tensor([[2.2368, 1.2292, 0.4714, 0.3864, 0.1309, 0.9838],\n",
      "        [4.4919, 2.1970, 0.4469, 0.5285, 0.3401, 2.4777],\n",
      "        [6.7469, 3.1648, 0.4224, 0.6705, 0.5493, 3.9716]],\n",
      "       grad_fn=<AddmmBackward0>)\n",
      "\n",
      "Output shape: torch.Size([3, 6])\n"
     ]
    }
   ],
   "source": [
    "# Since the linear layer starts with a random weights matrix, let's make it reproducible (more on this later)\n",
    "torch.manual_seed(42)\n",
    "\n",
    "# This uses matrix multiplication\n",
    "linear = torch.nn.Linear(in_features=2,  # in_features = matches inner dimension of input \n",
    "                         out_features=6) # out_features = describes outer value \n",
    "\n",
    "x = tensor_A\n",
    "print(x)\n",
    "\n",
    "output = linear(x)\n",
    "print(f\"Input shape: {x.shape}\\n\")\n",
    "print(f\"Output:\\n{output}\\n\\nOutput shape: {output.shape}\")"
   ]
  },
  {
   "cell_type": "code",
   "execution_count": 91,
   "id": "158bc020-6e70-46c0-98d6-e48f9eb360df",
   "metadata": {},
   "outputs": [
    {
     "name": "stdout",
     "output_type": "stream",
     "text": [
      "\n",
      "\n",
      "Inside PyTorch’s nn.Linear\n",
      "\n",
      "When you write:\n",
      "\n",
      "layer = torch.nn.Linear(in_features=3, out_features=2)\n",
      "\n",
      "PyTorch automatically:\n",
      "\n",
      "creates a random weight matrix A of size [2, 3]\n",
      "\n",
      "creates a bias vector b of size [2]\n",
      "\n",
      "and computes:\n",
      "\n",
      "y = x @ A.T + b\n",
      "\n",
      "\n"
     ]
    }
   ],
   "source": [
    "print('''\n",
    "\n",
    "Inside PyTorch’s nn.Linear\n",
    "\n",
    "When you write:\n",
    "\n",
    "layer = torch.nn.Linear(in_features=3, out_features=2)\n",
    "\n",
    "PyTorch automatically:\n",
    "\n",
    "creates a random weight matrix A of size [2, 3]\n",
    "\n",
    "creates a bias vector b of size [2]\n",
    "\n",
    "and computes:\n",
    "\n",
    "y = x @ A.T + b\n",
    "\n",
    "''')"
   ]
  },
  {
   "cell_type": "code",
   "execution_count": 92,
   "id": "968f782e-5b2d-4fd2-ba09-d936e4f1d95b",
   "metadata": {},
   "outputs": [
    {
     "name": "stdout",
     "output_type": "stream",
     "text": [
      "Linear(in_features=3, out_features=2, bias=True)\n",
      "Weights (A):\n",
      "Parameter containing:\n",
      "tensor([[-0.2695,  0.1472, -0.2660],\n",
      "        [-0.0677, -0.2345,  0.3830]], requires_grad=True)\n",
      "\n",
      "Bias (b):\n",
      "Parameter containing:\n",
      "tensor([-0.4557, -0.2662], requires_grad=True)\n",
      "tensor([[1., 2., 3.]])\n",
      "\n",
      "Output from nn.Linear: tensor([[-1.2290,  0.3461]], grad_fn=<AddmmBackward0>)\n"
     ]
    }
   ],
   "source": [
    "import torch\n",
    "import torch.nn as nn\n",
    "\n",
    "# Create a fully connected layer: 3 inputs -> 2 outputs\n",
    "layer = nn.Linear(in_features=3, out_features=2)\n",
    "print(layer)\n",
    "\n",
    "# Print the randomly initialized weights and bias\n",
    "print(\"Weights (A):\")\n",
    "print(layer.weight)  # shape [2, 3]\n",
    "print(\"\\nBias (b):\")\n",
    "print(layer.bias)    # shape [2]\n",
    "\n",
    "# Example input vector (1 sample, 3 features)\n",
    "x = torch.tensor([[1.0, 2.0, 3.0]])  # shape [1, 3]\n",
    "print(x)\n",
    "\n",
    "# === Method 1: use the layer directly ===\n",
    "y1 = layer(x)\n",
    "print(\"\\nOutput from nn.Linear:\", y1)\n"
   ]
  },
  {
   "cell_type": "code",
   "execution_count": 93,
   "id": "52774a5a-da25-46d5-af75-17755efc59f3",
   "metadata": {},
   "outputs": [
    {
     "name": "stdout",
     "output_type": "stream",
     "text": [
      "Output from manual computation: tensor([[-1.2290,  0.3461]], grad_fn=<AddBackward0>)\n",
      "\n",
      "Do they match? True\n"
     ]
    }
   ],
   "source": [
    "# === Method 2: manual matrix multiplication ===\n",
    "\n",
    "A = layer.weight\n",
    "b = layer.bias\n",
    "y2 = x @ A.T + b\n",
    "\n",
    "print(\"Output from manual computation:\", y2)\n",
    "\n",
    "# Check they match\n",
    "print(\"\\nDo they match?\", torch.allclose(y1, y2))\n"
   ]
  },
  {
   "cell_type": "code",
   "execution_count": 94,
   "id": "292a6402-f406-47fc-9a67-74960e976b4c",
   "metadata": {},
   "outputs": [
    {
     "name": "stdout",
     "output_type": "stream",
     "text": [
      "\n",
      "\n",
      "torch.nn helps you:\n",
      "\n",
      "Define layers (like Linear, Conv2d, LSTM, etc.)\n",
      "Add activation functions (like ReLU, Sigmoid, Softmax)\n",
      "Combine layers into a full model using nn.Module\n",
      "Compute loss functions (like CrossEntropyLoss, MSELoss)\n",
      "Build custom models with automatic gradient tracking\n",
      "\n",
      "\n"
     ]
    }
   ],
   "source": [
    "print('''\n",
    "\n",
    "torch.nn helps you:\n",
    "\n",
    "Define layers (like Linear, Conv2d, LSTM, etc.)\n",
    "Add activation functions (like ReLU, Sigmoid, Softmax)\n",
    "Combine layers into a full model using nn.Module\n",
    "Compute loss functions (like CrossEntropyLoss, MSELoss)\n",
    "Build custom models with automatic gradient tracking\n",
    "\n",
    "''')"
   ]
  },
  {
   "cell_type": "code",
   "execution_count": 95,
   "id": "182e7fb1-c110-4081-99e4-c1fe5a8f18e1",
   "metadata": {},
   "outputs": [
    {
     "name": "stdout",
     "output_type": "stream",
     "text": [
      " \n",
      "\n",
      "Finding the min, max, mean, sum, etc (aggregation)\n",
      "\n",
      "\n"
     ]
    }
   ],
   "source": [
    "print(''' \n",
    "\n",
    "Finding the min, max, mean, sum, etc (aggregation)\n",
    "\n",
    "''')"
   ]
  },
  {
   "cell_type": "code",
   "execution_count": 96,
   "id": "71342032-c2de-412e-b657-69279a90d97c",
   "metadata": {},
   "outputs": [
    {
     "name": "stdout",
     "output_type": "stream",
     "text": [
      "tensor([ 0, 10, 20, 30, 40, 50, 60, 70, 80, 90])\n"
     ]
    }
   ],
   "source": [
    "# Create a tensor\n",
    "x = torch.arange(0, 100, 10)\n",
    "x\n",
    "\n",
    "# This creates a 1D tensor that goes from 0 up to (but not including) 100, in steps of 10:\n",
    "# torch.arange(start, end, step) works like Python’s range() \n",
    "# but returns a tensor instead of a list.\n",
    "\n",
    "# If you wanted to create the same tensor manually, it should be:\n",
    "\n",
    "y = torch.tensor([0, 10, 20, 30, 40, 50, 60, 70, 80, 90])\n",
    "print(y)"
   ]
  },
  {
   "cell_type": "code",
   "execution_count": 97,
   "id": "07039d55-0880-41da-9e20-0fd1a74f3bcf",
   "metadata": {},
   "outputs": [
    {
     "name": "stdout",
     "output_type": "stream",
     "text": [
      "Minimum: 0\n",
      "Maximum: 90\n",
      "Mean: 45.0\n",
      "Sum: 450\n"
     ]
    }
   ],
   "source": [
    "print(f\"Minimum: {x.min()}\")\n",
    "print(f\"Maximum: {x.max()}\")\n",
    "# print(f\"Mean: {x.mean()}\") # this will error\n",
    "print(f\"Mean: {x.type(torch.float32).mean()}\") # won't work without float datatype\n",
    "print(f\"Sum: {x.sum()}\")"
   ]
  },
  {
   "cell_type": "code",
   "execution_count": 98,
   "id": "95c3d0f0-4b3f-479d-bebd-04682f847e3a",
   "metadata": {},
   "outputs": [
    {
     "data": {
      "text/plain": [
       "(tensor(90), tensor(0), tensor(45.), tensor(450))"
      ]
     },
     "execution_count": 98,
     "metadata": {},
     "output_type": "execute_result"
    }
   ],
   "source": [
    "# You can also do the same as above with torch methods.\n",
    "\n",
    "torch.max(x), torch.min(x), torch.mean(x.type(torch.float32)), torch.sum(x)"
   ]
  },
  {
   "cell_type": "code",
   "execution_count": 99,
   "id": "39f6914c-b802-4b85-bded-2c5eb926f2cf",
   "metadata": {},
   "outputs": [
    {
     "name": "stdout",
     "output_type": "stream",
     "text": [
      "Tensor: tensor([10, 20, 30, 40, 50, 60, 70, 80, 90])\n",
      "Index where max value occurs: 8\n",
      "Index where min value occurs: 0\n"
     ]
    }
   ],
   "source": [
    "# Positional min/max\n",
    "\n",
    "# Create a tensor\n",
    "tensor = torch.arange(10, 100, 10)\n",
    "print(f\"Tensor: {tensor}\")\n",
    "\n",
    "# Returns index of max and min values\n",
    "print(f\"Index where max value occurs: {tensor.argmax()}\")\n",
    "print(f\"Index where min value occurs: {tensor.argmin()}\")\n",
    "\n",
    "# .argmax() means “argument of the maximum” — it returns the index (position) where the maximum value occurs in the tensor.\n",
    "# .argmin() does the same thing but for the minimum value."
   ]
  },
  {
   "cell_type": "code",
   "execution_count": 100,
   "id": "58336c8c-5d44-4225-a3c2-543898d57373",
   "metadata": {},
   "outputs": [
    {
     "name": "stdout",
     "output_type": "stream",
     "text": [
      "\n",
      "\n",
      "Change tensor datatype : a common issue with deep learning operations is having your tensors in different datatypes.\n",
      "\n",
      "If one tensor is in torch.float64 and another is in torch.float32, you might run into some errors.\n",
      "\n",
      "float32 uses 4 bytes per number\n",
      "\n",
      "float64 uses 8 bytes per number\n",
      "\n",
      "So float64 takes twice as much memory and is slower on most GPUs — but it’s more accurate for scientific or mathematical computations.\n",
      "\n",
      "Type\tName\tPrecision\tTypical Use\n",
      "\n",
      "torch.float32\t32-bit floating point (a.k.a. single precision)\t~7 decimal digits\tDefault for deep learning (fast & efficient)\n",
      "\n",
      "torch.float64\t64-bit floating point (a.k.a. double precision)\t~15–16 decimal digits\tUsed when high numerical precision is required\n",
      "\n",
      "\n",
      "\n",
      "\n",
      "The difference between torch.float32 and torch.float64 is about precision \n",
      "\n",
      "(how many digits of accuracy numbers are stored with) and memory usage.\n",
      "\n",
      "\n",
      "tensor([3.1416])\n",
      "tensor([3.1416], dtype=torch.float64)\n"
     ]
    }
   ],
   "source": [
    "print('''\n",
    "\n",
    "Change tensor datatype : a common issue with deep learning operations is having your tensors in different datatypes.\n",
    "\n",
    "If one tensor is in torch.float64 and another is in torch.float32, you might run into some errors.\n",
    "\n",
    "float32 uses 4 bytes per number\n",
    "\n",
    "float64 uses 8 bytes per number\n",
    "\n",
    "So float64 takes twice as much memory and is slower on most GPUs — but it’s more accurate for scientific or mathematical computations.\n",
    "\n",
    "Type\tName\tPrecision\tTypical Use\n",
    "\n",
    "torch.float32\t32-bit floating point (a.k.a. single precision)\t~7 decimal digits\tDefault for deep learning (fast & efficient)\n",
    "\n",
    "torch.float64\t64-bit floating point (a.k.a. double precision)\t~15–16 decimal digits\tUsed when high numerical precision is required\n",
    "\n",
    "''')\n",
    "\n",
    "# First we'll create a tensor and check its datatype (the default is torch.float32).\n",
    "\n",
    "print('''\n",
    "\n",
    "The difference between torch.float32 and torch.float64 is about precision \n",
    "\n",
    "(how many digits of accuracy numbers are stored with) and memory usage.\n",
    "\n",
    "''')\n",
    "\n",
    "import torch\n",
    "\n",
    "a32 = torch.tensor([3.1415926535], dtype=torch.float32)\n",
    "a64 = torch.tensor([3.1415926535], dtype=torch.float64)\n",
    "\n",
    "print(a32)  # tensor([3.1416])\n",
    "print(a64)  # tensor([3.14159265])\n"
   ]
  },
  {
   "cell_type": "code",
   "execution_count": 101,
   "id": "92340a3d-43d0-42aa-b86b-f614c19cca72",
   "metadata": {},
   "outputs": [
    {
     "data": {
      "text/plain": [
       "torch.float32"
      ]
     },
     "execution_count": 101,
     "metadata": {},
     "output_type": "execute_result"
    }
   ],
   "source": [
    "# Create a tensor and check its datatype\n",
    "tensor = torch.arange(10., 100., 10.)\n",
    "tensor.dtype"
   ]
  },
  {
   "cell_type": "code",
   "execution_count": 102,
   "id": "114bdd1e-3da0-471f-8dc5-71c6d4ca3b17",
   "metadata": {},
   "outputs": [
    {
     "data": {
      "text/plain": [
       "tensor([10., 20., 30., 40., 50., 60., 70., 80., 90.], dtype=torch.float16)"
      ]
     },
     "execution_count": 102,
     "metadata": {},
     "output_type": "execute_result"
    }
   ],
   "source": [
    "# Create a float16 tensor\n",
    "tensor_float16 = tensor.type(torch.float16)\n",
    "tensor_float16"
   ]
  },
  {
   "cell_type": "code",
   "execution_count": 103,
   "id": "d389ca63-3851-4119-9274-2339bf0e99e7",
   "metadata": {},
   "outputs": [
    {
     "data": {
      "text/plain": [
       "tensor([10, 20, 30, 40, 50, 60, 70, 80, 90], dtype=torch.int8)"
      ]
     },
     "execution_count": 103,
     "metadata": {},
     "output_type": "execute_result"
    }
   ],
   "source": [
    "# Create an int8 tensor\n",
    "tensor_int8 = tensor.type(torch.int8)\n",
    "tensor_int8"
   ]
  },
  {
   "cell_type": "code",
   "execution_count": 104,
   "id": "7dc675e1-7c75-471a-b0c2-3b2797e5f57a",
   "metadata": {},
   "outputs": [
    {
     "name": "stdout",
     "output_type": "stream",
     "text": [
      "\n",
      "\n",
      "Reshaping, stacking, squeezing and unsqueezing :\n",
      "\n",
      "Because of the rules of matrix multiplication, if you've got shape mismatches, you'll run into errors. \n",
      "\n",
      "These methods help you make sure the right elements of your tensors are mixing with the right elements of other tensors\n",
      "\n",
      "\n"
     ]
    }
   ],
   "source": [
    "print('''\n",
    "\n",
    "Reshaping, stacking, squeezing and unsqueezing :\n",
    "\n",
    "Because of the rules of matrix multiplication, if you've got shape mismatches, you'll run into errors. \n",
    "\n",
    "These methods help you make sure the right elements of your tensors are mixing with the right elements of other tensors\n",
    "\n",
    "''')"
   ]
  },
  {
   "cell_type": "code",
   "execution_count": 106,
   "id": "52a48ae8-e4fe-4aaf-b622-54d33eb7a0b2",
   "metadata": {},
   "outputs": [
    {
     "name": "stdout",
     "output_type": "stream",
     "text": [
      "tensor([1., 2., 3., 4., 5., 6., 7.]) torch.Size([7])\n",
      "tensor([[1., 2., 3., 4., 5., 6., 7.]]) torch.Size([1, 7])\n"
     ]
    }
   ],
   "source": [
    "# Create a tensor\n",
    "import torch\n",
    "x = torch.arange(1., 8.)\n",
    "print(x, x.shape)\n",
    "\n",
    "# Now let's add an extra dimension with torch.reshape().\n",
    "x_reshaped = x.reshape(1, 7)\n",
    "print(x_reshaped, x_reshaped.shape)\n",
    "\n",
    "# torch.arange(1., 8.) creates a 1D tensor with values from 1.0 to 7.0 (the end value 8. is excluded)\n",
    "# So x = [1., 2., 3., 4., 5., 6., 7.]\n",
    "# x.shape = torch.Size([7]) means this tensor has 1 dimension with 7 elements.\n",
    "\n",
    "# .reshape(1, 7) changes the shape of x to have 2 dimensions:\n",
    "#  - 1 row (often a batch dimension)\n",
    "#  - 7 columns (the features)\n",
    "# It doesn’t change the data, just how it’s viewed.\n",
    "\n",
    "# Now it’s a 2D tensor:\n",
    "# [[1., 2., 3., 4., 5., 6., 7.]]\n"
   ]
  },
  {
   "cell_type": "code",
   "execution_count": 107,
   "id": "7355b821-c9de-4efb-a8ce-6f5eee8835eb",
   "metadata": {},
   "outputs": [
    {
     "name": "stdout",
     "output_type": "stream",
     "text": [
      "Torch shape\n"
     ]
    }
   ],
   "source": [
    "print(\"Torch shape\")"
   ]
  },
  {
   "cell_type": "code",
   "execution_count": 108,
   "id": "1c8e3730-cd59-4af4-8b62-9d6516970d50",
   "metadata": {},
   "outputs": [
    {
     "data": {
      "text/plain": [
       "(tensor([[1., 2., 3., 4., 5., 6., 7.]]), torch.Size([1, 7]))"
      ]
     },
     "execution_count": 108,
     "metadata": {},
     "output_type": "execute_result"
    }
   ],
   "source": [
    "# We can also change the view with torch.view()\n",
    "\n",
    "# Change view (keeps same data as original but changes view)\n",
    "# See more: https://stackoverflow.com/a/54507446/7900723\n",
    "\n",
    "z = x.view(1, 7)\n",
    "z, z.shape\n",
    "\n",
    "# .view() is similar to .reshape(): it changes the shape of a tensor without changing the data.\n",
    "# The key difference:\n",
    "# .view() works only on contiguous tensors (tensors stored in continuous memory blocks).\n",
    "# .reshape() is more flexible — it can handle non-contiguous tensors (PyTorch will copy data if necessary)."
   ]
  },
  {
   "cell_type": "code",
   "execution_count": 109,
   "id": "56bbb073-d12f-4d91-99f4-808d73853546",
   "metadata": {},
   "outputs": [
    {
     "name": "stdout",
     "output_type": "stream",
     "text": [
      "Torch arrange\n"
     ]
    }
   ],
   "source": [
    "print(\"Torch arrange\")"
   ]
  },
  {
   "cell_type": "code",
   "execution_count": 110,
   "id": "b40f6bec-4a90-4b3d-b2ba-4c9d16e65266",
   "metadata": {},
   "outputs": [
    {
     "name": "stdout",
     "output_type": "stream",
     "text": [
      "\n",
      "\n",
      "| Operation              | Purpose                        | Output Shape | Notes              |\n",
      "| ---------------------- | ------------------------------ | ------------ | ------------------ |\n",
      "| `torch.arange(1., 8.)` | Create tensor `[1, 2, ..., 7]` | `(7,)`       | 1D tensor          |\n",
      "| `.reshape(1, 7)`       | Add a new dimension (row)      | `(1, 7)`     | Safe and flexible  |\n",
      "| `.view(1, 7)`          | Change shape (no data copy)    | `(1, 7)`     | Faster but limited |\n",
      "\n",
      "\n"
     ]
    }
   ],
   "source": [
    "print('''\n",
    "\n",
    "| Operation              | Purpose                        | Output Shape | Notes              |\n",
    "| ---------------------- | ------------------------------ | ------------ | ------------------ |\n",
    "| `torch.arange(1., 8.)` | Create tensor `[1, 2, ..., 7]` | `(7,)`       | 1D tensor          |\n",
    "| `.reshape(1, 7)`       | Add a new dimension (row)      | `(1, 7)`     | Safe and flexible  |\n",
    "| `.view(1, 7)`          | Change shape (no data copy)    | `(1, 7)`     | Faster but limited |\n",
    "\n",
    "''')"
   ]
  },
  {
   "cell_type": "code",
   "execution_count": 111,
   "id": "27cb5e35-9d47-4a7e-a62d-dbec06edea54",
   "metadata": {},
   "outputs": [
    {
     "name": "stdout",
     "output_type": "stream",
     "text": [
      "tensor([1., 2., 3., 4., 5., 6., 7.])\n",
      "tensor([[1., 2., 3., 4., 5., 6., 7.]])\n",
      "Changing the view changes the original tensor too.\n"
     ]
    },
    {
     "data": {
      "text/plain": [
       "(tensor([[5., 2., 3., 4., 5., 6., 7.]]), tensor([5., 2., 3., 4., 5., 6., 7.]))"
      ]
     },
     "execution_count": 111,
     "metadata": {},
     "output_type": "execute_result"
    }
   ],
   "source": [
    "# Remember though, changing the view of a tensor with torch.view() really only creates a new view of the same tensor.\n",
    "\n",
    "x = torch.arange(1., 8.)\n",
    "print(x)\n",
    "\n",
    "z = x.view(1, 7)\n",
    "print(z)\n",
    "\n",
    "print(\"Changing the view changes the original tensor too.\")\n",
    "\n",
    "# Changing z changes x\n",
    "z[:, 0] = 5\n",
    "z, x\n",
    "\n",
    "# z[:, 0] means:\n",
    "# “select all rows (:)”\n",
    "# “and only the first column (0)”\n",
    "\n",
    "# So you’re selecting the first element of each row (in this case, just one value — 1.0).\n",
    "\n",
    "# Because z was created using .view(), it is a view (a shallow copy) of the same data stored in memory as x.\n",
    "# That means x and z share the same underlying memory"
   ]
  },
  {
   "cell_type": "code",
   "execution_count": 112,
   "id": "15eac9f3-a320-438a-9385-c143ffef8948",
   "metadata": {},
   "outputs": [
    {
     "name": "stdout",
     "output_type": "stream",
     "text": [
      "Torch stack\n"
     ]
    }
   ],
   "source": [
    "print(\"Torch stack\")"
   ]
  },
  {
   "cell_type": "code",
   "execution_count": 113,
   "id": "6da1f3b5-c58a-45a5-8ea6-be5081c07adf",
   "metadata": {},
   "outputs": [
    {
     "data": {
      "text/plain": [
       "tensor([[5., 2., 3., 4., 5., 6., 7.],\n",
       "        [5., 2., 3., 4., 5., 6., 7.],\n",
       "        [5., 2., 3., 4., 5., 6., 7.],\n",
       "        [5., 2., 3., 4., 5., 6., 7.]])"
      ]
     },
     "execution_count": 113,
     "metadata": {},
     "output_type": "execute_result"
    }
   ],
   "source": [
    "# Stack tensors on top of each other\n",
    "x_stacked = torch.stack([x, x, x, x], dim=0) # try changing dim to dim=1 and see what happens\n",
    "x_stacked"
   ]
  },
  {
   "cell_type": "code",
   "execution_count": 114,
   "id": "0057b0b1-57db-4d7c-92dd-f4429a1a1795",
   "metadata": {},
   "outputs": [
    {
     "name": "stdout",
     "output_type": "stream",
     "text": [
      " \n",
      "\n",
      "How about removing all single dimensions from a tensor?\n",
      "To do so you can use torch.squeeze() (I remember this as squeezing the tensor to only have dimensions over 1).\n",
      "\n",
      "\n"
     ]
    }
   ],
   "source": [
    "print(''' \n",
    "\n",
    "How about removing all single dimensions from a tensor?\n",
    "To do so you can use torch.squeeze() (I remember this as squeezing the tensor to only have dimensions over 1).\n",
    "\n",
    "''')"
   ]
  },
  {
   "cell_type": "code",
   "execution_count": 115,
   "id": "d59a0cc0-eda8-40c1-ae22-3c6224031086",
   "metadata": {},
   "outputs": [
    {
     "name": "stdout",
     "output_type": "stream",
     "text": [
      "Previous tensor: tensor([[1., 2., 3., 4., 5., 6., 7.]])\n",
      "Previous shape: torch.Size([1, 7])\n",
      "\n",
      "New tensor: tensor([1., 2., 3., 4., 5., 6., 7.])\n",
      "New shape: torch.Size([7])\n"
     ]
    }
   ],
   "source": [
    "print(f\"Previous tensor: {x_reshaped}\")\n",
    "print(f\"Previous shape: {x_reshaped.shape}\")\n",
    "\n",
    "# This is a 2D tensor — it has:\n",
    "# 1 row\n",
    "# 7 columns\n",
    "\n",
    "# Remove extra dimension from x_reshaped\n",
    "x_squeezed = x_reshaped.squeeze()\n",
    "print(f\"\\nNew tensor: {x_squeezed}\")\n",
    "print(f\"New shape: {x_squeezed.shape}\")\n",
    "\n",
    "# Now it’s a 1D tensor, because you removed one dimension (the outer list-like wrapper).\n",
    "# Its shape becomes: torch.Size([7])\n",
    "# A flat array of length 7” (only one dimension).\n",
    "\n",
    "# Tensor\tDimensionality\tShape\tDescription\n",
    "# tensor([[5., 2., 3., 4., 5., 6., 7.]])\t2D\t[1, 7]\tRow vector (2D matrix)\n",
    "# tensor([5., 2., 3., 4., 5., 6., 7.])"
   ]
  },
  {
   "cell_type": "code",
   "execution_count": 116,
   "id": "5461b398-cb0f-4623-b361-942df8ba52e2",
   "metadata": {},
   "outputs": [
    {
     "name": "stdout",
     "output_type": "stream",
     "text": [
      "\n",
      "\n",
      "And to do the reverse of torch.squeeze() you can use torch.unsqueeze() to add a dimension value of 1 \n",
      "at a specific index.\n",
      "\n",
      "\n"
     ]
    }
   ],
   "source": [
    "print('''\n",
    "\n",
    "And to do the reverse of torch.squeeze() you can use torch.unsqueeze() to add a dimension value of 1 \n",
    "at a specific index.\n",
    "\n",
    "''')"
   ]
  },
  {
   "cell_type": "code",
   "execution_count": 117,
   "id": "c0c4d2e9-16c9-4ad8-bccd-5d72f85e7ac3",
   "metadata": {},
   "outputs": [
    {
     "name": "stdout",
     "output_type": "stream",
     "text": [
      "Previous tensor: tensor([1., 2., 3., 4., 5., 6., 7.])\n",
      "Previous shape: torch.Size([7])\n",
      "\n",
      "New tensor: tensor([[1., 2., 3., 4., 5., 6., 7.]])\n",
      "New shape: torch.Size([1, 7])\n"
     ]
    }
   ],
   "source": [
    "print(f\"Previous tensor: {x_squeezed}\")\n",
    "print(f\"Previous shape: {x_squeezed.shape}\")\n",
    "\n",
    "## Add an extra dimension with unsqueeze\n",
    "x_unsqueezed = x_squeezed.unsqueeze(dim=0)\n",
    "print(f\"\\nNew tensor: {x_unsqueezed}\")\n",
    "print(f\"New shape: {x_unsqueezed.shape}\")\n",
    "\n",
    "# What .unsqueeze(dim=0) does:\n",
    "\n",
    "# It inserts a new dimension at position 0 (the first axis).\n",
    "# The data doesn’t change — only how PyTorch views it.\n",
    "\n",
    "# So shape [7] becomes [1, 7].\n",
    "\n",
    "# Now the tensor looks like:\n",
    "#    [[5., 2., 3., 4., 5., 6., 7.]]\n",
    "\n",
    "# This is now a 2D tensor — one row and seven columns."
   ]
  },
  {
   "cell_type": "code",
   "execution_count": 118,
   "id": "88387a80-487e-452f-b772-2b7eedae3429",
   "metadata": {},
   "outputs": [
    {
     "name": "stdout",
     "output_type": "stream",
     "text": [
      "Torch Permute\n"
     ]
    }
   ],
   "source": [
    "print(\"Torch Permute\")"
   ]
  },
  {
   "cell_type": "code",
   "execution_count": 119,
   "id": "34ad33ff-8f16-449b-9eef-18f42e1c3967",
   "metadata": {},
   "outputs": [
    {
     "name": "stdout",
     "output_type": "stream",
     "text": [
      "\n",
      "\n",
      "You can also rearrange the order of axes values with torch.permute(input, dims), \n",
      "where the input gets turned into a view with new dims.\n",
      "\n",
      "\n"
     ]
    }
   ],
   "source": [
    "print('''\n",
    "\n",
    "You can also rearrange the order of axes values with torch.permute(input, dims), \n",
    "where the input gets turned into a view with new dims.\n",
    "\n",
    "''')"
   ]
  },
  {
   "cell_type": "code",
   "execution_count": 120,
   "id": "ac57c98c-3556-45a5-b27f-19772c62c9ad",
   "metadata": {},
   "outputs": [
    {
     "name": "stdout",
     "output_type": "stream",
     "text": [
      "Previous shape: torch.Size([224, 224, 3])\n",
      "New shape: torch.Size([3, 224, 224])\n"
     ]
    }
   ],
   "source": [
    "# Create tensor with specific shape\n",
    "x_original = torch.rand(size=(224, 224, 3))\n",
    "\n",
    "# Permute the original tensor to rearrange the axis order\n",
    "x_permuted = x_original.permute(2, 0, 1) # shifts axis 0->1, 1->2, 2->0\n",
    "\n",
    "print(f\"Previous shape: {x_original.shape}\")\n",
    "print(f\"New shape: {x_permuted.shape}\")"
   ]
  },
  {
   "cell_type": "code",
   "execution_count": 121,
   "id": "8e5e955d-6ae3-4f3d-93b8-965fca877fbb",
   "metadata": {},
   "outputs": [
    {
     "name": "stdout",
     "output_type": "stream",
     "text": [
      "tensor([[[0.3588, 0.1994, 0.5472],\n",
      "         [0.0062, 0.9516, 0.0753],\n",
      "         [0.8860, 0.5832, 0.3376],\n",
      "         ...,\n",
      "         [0.3031, 0.6576, 0.9813],\n",
      "         [0.5840, 0.9902, 0.5978],\n",
      "         [0.7888, 0.9008, 0.9180]],\n",
      "\n",
      "        [[0.2201, 0.9597, 0.8029],\n",
      "         [0.2662, 0.2614, 0.0806],\n",
      "         [0.6256, 0.0947, 0.7112],\n",
      "         ...,\n",
      "         [0.6172, 0.0231, 0.6317],\n",
      "         [0.7472, 0.0614, 0.1727],\n",
      "         [0.1405, 0.9203, 0.9251]],\n",
      "\n",
      "        [[0.5313, 0.9694, 0.3328],\n",
      "         [0.0146, 0.6746, 0.6771],\n",
      "         [0.9902, 0.4999, 0.8832],\n",
      "         ...,\n",
      "         [0.2865, 0.3940, 0.1418],\n",
      "         [0.3650, 0.0908, 0.6902],\n",
      "         [0.8538, 0.5396, 0.1421]],\n",
      "\n",
      "        ...,\n",
      "\n",
      "        [[0.1658, 0.1479, 0.8327],\n",
      "         [0.2563, 0.1063, 0.4770],\n",
      "         [0.2286, 0.9968, 0.1086],\n",
      "         ...,\n",
      "         [0.3759, 0.7442, 0.8621],\n",
      "         [0.7548, 0.6381, 0.0106],\n",
      "         [0.0893, 0.6170, 0.3402]],\n",
      "\n",
      "        [[0.8306, 0.0705, 0.2111],\n",
      "         [0.6203, 0.6531, 0.4660],\n",
      "         [0.2933, 0.0641, 0.1330],\n",
      "         ...,\n",
      "         [0.6099, 0.1369, 0.4302],\n",
      "         [0.7265, 0.6237, 0.8480],\n",
      "         [0.4580, 0.2424, 0.8264]],\n",
      "\n",
      "        [[0.0015, 0.9050, 0.1563],\n",
      "         [0.7214, 0.2574, 0.0023],\n",
      "         [0.2589, 0.6026, 0.3414],\n",
      "         ...,\n",
      "         [0.7786, 0.8016, 0.3649],\n",
      "         [0.6286, 0.9663, 0.7687],\n",
      "         [0.4566, 0.5745, 0.9200]]])\n"
     ]
    }
   ],
   "source": [
    "print(x_original)\n",
    "\n",
    "# This creates a random tensor with shape (224, 224, 3).\n",
    "# torch.rand() → creates random numbers between 0 and 1\n",
    "# size=(224, 224, 3) → means:\n",
    "# 224 rows (height)\n",
    "# 224 columns (width)\n",
    "# 3 channels (like RGB)\n",
    "\n",
    "# So you can think of it like an image with shape Height × Width × Channels\n",
    "# 🖼️ → (H, W, C) = (224, 224, 3)"
   ]
  },
  {
   "cell_type": "code",
   "execution_count": 122,
   "id": "a18e53e3-67e9-4e74-b3ba-21dba4a1bdf3",
   "metadata": {},
   "outputs": [
    {
     "name": "stdout",
     "output_type": "stream",
     "text": [
      "tensor([[[0.3588, 0.0062, 0.8860,  ..., 0.3031, 0.5840, 0.7888],\n",
      "         [0.2201, 0.2662, 0.6256,  ..., 0.6172, 0.7472, 0.1405],\n",
      "         [0.5313, 0.0146, 0.9902,  ..., 0.2865, 0.3650, 0.8538],\n",
      "         ...,\n",
      "         [0.1658, 0.2563, 0.2286,  ..., 0.3759, 0.7548, 0.0893],\n",
      "         [0.8306, 0.6203, 0.2933,  ..., 0.6099, 0.7265, 0.4580],\n",
      "         [0.0015, 0.7214, 0.2589,  ..., 0.7786, 0.6286, 0.4566]],\n",
      "\n",
      "        [[0.1994, 0.9516, 0.5832,  ..., 0.6576, 0.9902, 0.9008],\n",
      "         [0.9597, 0.2614, 0.0947,  ..., 0.0231, 0.0614, 0.9203],\n",
      "         [0.9694, 0.6746, 0.4999,  ..., 0.3940, 0.0908, 0.5396],\n",
      "         ...,\n",
      "         [0.1479, 0.1063, 0.9968,  ..., 0.7442, 0.6381, 0.6170],\n",
      "         [0.0705, 0.6531, 0.0641,  ..., 0.1369, 0.6237, 0.2424],\n",
      "         [0.9050, 0.2574, 0.6026,  ..., 0.8016, 0.9663, 0.5745]],\n",
      "\n",
      "        [[0.5472, 0.0753, 0.3376,  ..., 0.9813, 0.5978, 0.9180],\n",
      "         [0.8029, 0.0806, 0.7112,  ..., 0.6317, 0.1727, 0.9251],\n",
      "         [0.3328, 0.6771, 0.8832,  ..., 0.1418, 0.6902, 0.1421],\n",
      "         ...,\n",
      "         [0.8327, 0.4770, 0.1086,  ..., 0.8621, 0.0106, 0.3402],\n",
      "         [0.2111, 0.4660, 0.1330,  ..., 0.4302, 0.8480, 0.8264],\n",
      "         [0.1563, 0.0023, 0.3414,  ..., 0.3649, 0.7687, 0.9200]]])\n"
     ]
    }
   ],
   "source": [
    "print(x_permuted)\n",
    "\n",
    "# The original order was (0, 1, 2) = (H, W, C)\n",
    "# You are changing it to (2, 0, 1) = (C, H, W)\n",
    "\n",
    "# This is extremely common when preparing image data for deep learning models (like CNNs), because:\n",
    "# PyTorch expects image tensors as (C, H, W) — channels first format.\n",
    "# But most image libraries (e.g. Pillow, OpenCV, matplotlib) use (H, W, C) — channels last."
   ]
  },
  {
   "cell_type": "code",
   "execution_count": 123,
   "id": "9f6a4136-8089-401b-9e58-b4b2b2adde8b",
   "metadata": {},
   "outputs": [],
   "source": [
    "# Meaning:\n",
    "# You didn’t change the data values, only how PyTorch interprets the axes.\n",
    "# It’s like rotating the axes labels in memory — not copying or reshaping the data."
   ]
  },
  {
   "cell_type": "code",
   "execution_count": 124,
   "id": "8617f4c8-eda8-43ed-af12-66f52165740f",
   "metadata": {},
   "outputs": [
    {
     "name": "stdout",
     "output_type": "stream",
     "text": [
      "\n",
      "⚙️ General rule\n",
      "Function\tDescription\tExample\n",
      ".reshape()\tChanges shape (number of elements per dimension)\t(6,) → (2,3)\n",
      ".unsqueeze()\tAdds a new dimension\t(7,) → (1,7)\n",
      ".permute()\tReorders existing dimensions\t(H, W, C) → (C, H, W)\n",
      "\n"
     ]
    }
   ],
   "source": [
    "print('''\n",
    "⚙️ General rule\n",
    "Function\tDescription\tExample\n",
    ".reshape()\tChanges shape (number of elements per dimension)\t(6,) → (2,3)\n",
    ".unsqueeze()\tAdds a new dimension\t(7,) → (1,7)\n",
    ".permute()\tReorders existing dimensions\t(H, W, C) → (C, H, W)\n",
    "''')"
   ]
  },
  {
   "cell_type": "code",
   "execution_count": 125,
   "id": "94611e75-57cb-49b1-9231-736195afbc3c",
   "metadata": {},
   "outputs": [],
   "source": [
    "# Let’s look at how to reverse the axis order, \n",
    "# i.e. go from (C, H, W) back to (H, W, C) — which is what most image libraries expect for display \n",
    "# (e.g. Matplotlib, OpenCV, Pillow)"
   ]
  },
  {
   "cell_type": "code",
   "execution_count": 126,
   "id": "2c90a725-4d31-4b89-9345-3afa8a5e35f6",
   "metadata": {},
   "outputs": [],
   "source": [
    "# PyTorch models and tensors: (C, H, W) (“channels first”)\n",
    "# Visualization libraries (like matplotlib.pyplot.imshow): (H, W, C) (“channels last”)"
   ]
  },
  {
   "cell_type": "code",
   "execution_count": 127,
   "id": "a686cfcf-c691-4b3d-ae58-3a15b46341f4",
   "metadata": {},
   "outputs": [
    {
     "data": {
      "image/png": "[encoded data removed]",
      "text/plain": [
       "<Figure size 640x480 with 1 Axes>"
      ]
     },
     "metadata": {},
     "output_type": "display_data"
    }
   ],
   "source": [
    "import matplotlib.pyplot as plt\n",
    "\n",
    "# Example: show a PyTorch tensor image correctly\n",
    "img = torch.rand(3, 224, 224)         # Simulate an RGB image\n",
    "img_hwc = img.permute(1, 2, 0)        # Convert to (H, W, C)\n",
    "\n",
    "plt.imshow(img_hwc)                   # Works correctly now\n",
    "plt.axis('off')\n",
    "plt.show()\n"
   ]
  },
  {
   "cell_type": "code",
   "execution_count": 128,
   "id": "a45e19ef-4c08-426b-8758-f1d0840f4233",
   "metadata": {},
   "outputs": [
    {
     "name": "stdout",
     "output_type": "stream",
     "text": [
      "PyTorch indexing (selecting data from tensors)\n"
     ]
    }
   ],
   "source": [
    "print(\"PyTorch indexing (selecting data from tensors)\")"
   ]
  },
  {
   "cell_type": "code",
   "execution_count": 129,
   "id": "8d14b54a-3e02-42cd-bd7c-7717b8261542",
   "metadata": {},
   "outputs": [],
   "source": [
    "# If you've ever done indexing on Python lists or NumPy arrays, \n",
    "# indexing in PyTorch with tensors is very similar."
   ]
  },
  {
   "cell_type": "code",
   "execution_count": 130,
   "id": "e14a6496-a963-4d49-a915-33016a386c8d",
   "metadata": {},
   "outputs": [
    {
     "data": {
      "text/plain": [
       "(tensor([[[1, 2, 3],\n",
       "          [4, 5, 6],\n",
       "          [7, 8, 9]]]),\n",
       " torch.Size([1, 3, 3]))"
      ]
     },
     "execution_count": 130,
     "metadata": {},
     "output_type": "execute_result"
    }
   ],
   "source": [
    "# Create a tensor \n",
    "import torch\n",
    "x = torch.arange(1, 10).reshape(1, 3, 3)\n",
    "x, x.shape"
   ]
  },
  {
   "cell_type": "code",
   "execution_count": 131,
   "id": "c737fbc7-d170-45fc-9d5c-67ceeb247a88",
   "metadata": {},
   "outputs": [
    {
     "name": "stdout",
     "output_type": "stream",
     "text": [
      "Indexing values goes OUTER dimension -> INNER dimension (check out the square brackets)\n"
     ]
    }
   ],
   "source": [
    "print(\"Indexing values goes OUTER dimension -> INNER dimension (check out the square brackets)\")"
   ]
  },
  {
   "cell_type": "code",
   "execution_count": 132,
   "id": "ed9842c5-310f-4f29-9b8a-935e076a1027",
   "metadata": {},
   "outputs": [
    {
     "name": "stdout",
     "output_type": "stream",
     "text": [
      "tensor([[[1, 2, 3],\n",
      "         [4, 5, 6],\n",
      "         [7, 8, 9]]])\n"
     ]
    }
   ],
   "source": [
    "x = torch.tensor([\n",
    "  [[1, 2, 3],\n",
    "   [4, 5, 6],\n",
    "   [7, 8, 9]]\n",
    "])\n",
    "print(x)\n",
    "\n",
    "# Shape = (1, 3, 3)\n",
    "# → 1 block (0th dimension), each block has 3 rows × 3 columns."
   ]
  },
  {
   "cell_type": "code",
   "execution_count": 133,
   "id": "b6ea624d-1d8c-4629-85f9-a222ac4cf28a",
   "metadata": {},
   "outputs": [
    {
     "name": "stdout",
     "output_type": "stream",
     "text": [
      "\n",
      "\n",
      "🧩 The 0th dimension is the first index you can slice — the “outermost container.”\n",
      "\n",
      "It’s like the row in a matrix or the image index in a batch.\n",
      "\n",
      "\n"
     ]
    }
   ],
   "source": [
    "print('''\n",
    "\n",
    "🧩 The 0th dimension is the first index you can slice — the “outermost container.”\n",
    "\n",
    "It’s like the row in a matrix or the image index in a batch.\n",
    "\n",
    "''')"
   ]
  },
  {
   "cell_type": "code",
   "execution_count": 134,
   "id": "1dd6645c-a357-4542-ba44-ab13604e1af0",
   "metadata": {},
   "outputs": [],
   "source": [
    "# What “0th dimension” means\n",
    "\n",
    "# In PyTorch (and NumPy), dimensions are numbered starting from 0, just like array indices.\n",
    "\n",
    "# x.shape = (a, b, c)\n",
    "\n",
    "# 0th dimension → axis a → the “outermost” dimension\n",
    "# 1st dimension → axis b → rows inside each outer element\n",
    "# 2nd dimension → axis c → columns (or elements inside each row)"
   ]
  },
  {
   "cell_type": "code",
   "execution_count": 135,
   "id": "a60cd394-ceaf-4a8e-82d5-5a2f840bdc4e",
   "metadata": {},
   "outputs": [
    {
     "name": "stdout",
     "output_type": "stream",
     "text": [
      "tensor([[1, 2, 3],\n",
      "        [4, 5, 6]])\n",
      "torch.Size([2, 3])\n"
     ]
    }
   ],
   "source": [
    "# Example 1 — 2D tensor (matrix)\n",
    "\n",
    "x = torch.tensor([\n",
    "  [1, 2, 3],\n",
    "  [4, 5, 6]\n",
    "])\n",
    "\n",
    "# Shape = (2, 3)\n",
    "# 0th dimension → index for rows\n",
    "# 1st dimension → index for columns\n",
    "\n",
    "# x[0] → tensor([1, 2, 3])   # first row (0th dimension)\n",
    "# x[:, 0] → tensor([1, 4])   # first column (1st dimension)\n",
    "\n",
    "print(x)\n",
    "print(x.shape)"
   ]
  },
  {
   "cell_type": "code",
   "execution_count": 136,
   "id": "1d5a1075-df47-4fd3-aad0-8be175b27473",
   "metadata": {},
   "outputs": [
    {
     "name": "stdout",
     "output_type": "stream",
     "text": [
      "tensor([[[ 1,  2,  3],\n",
      "         [ 4,  5,  6]],\n",
      "\n",
      "        [[ 7,  8,  9],\n",
      "         [10, 11, 12]]])\n",
      "torch.Size([2, 2, 3])\n"
     ]
    }
   ],
   "source": [
    "# Example 2 — 3D tensor\n",
    "\n",
    "x = torch.tensor([\n",
    "  [[1, 2, 3],\n",
    "   [4, 5, 6]],\n",
    "\n",
    "  [[7, 8, 9],\n",
    "   [10, 11, 12]]\n",
    "])\n",
    "\n",
    "# Shape = (2, 2, 3)\n",
    "print(x)\n",
    "print(x.shape)"
   ]
  },
  {
   "cell_type": "code",
   "execution_count": 137,
   "id": "95205076-d86e-47d9-a921-4666368f7197",
   "metadata": {},
   "outputs": [
    {
     "name": "stdout",
     "output_type": "stream",
     "text": [
      "\n",
      "| Dimension | Meaning      | Example                  |\n",
      "| --------- | ------------ | ------------------------ |\n",
      "| **0th**   | which block  | `x[0]` → first 2×3 block |\n",
      "| **1st**   | which row    | `x[0, 1]` → `[4, 5, 6]`  |\n",
      "| **2nd**   | which column | `x[0, 1, 2]` → `6`       |\n",
      "\n"
     ]
    }
   ],
   "source": [
    "print('''\n",
    "| Dimension | Meaning      | Example                  |\n",
    "| --------- | ------------ | ------------------------ |\n",
    "| **0th**   | which block  | `x[0]` → first 2×3 block |\n",
    "| **1st**   | which row    | `x[0, 1]` → `[4, 5, 6]`  |\n",
    "| **2nd**   | which column | `x[0, 1, 2]` → `6`       |\n",
    "''')"
   ]
  },
  {
   "cell_type": "code",
   "execution_count": 138,
   "id": "d04d5926-05e3-4a37-a012-ce7b195cbee3",
   "metadata": {},
   "outputs": [
    {
     "name": "stdout",
     "output_type": "stream",
     "text": [
      "tensor([[[[0.8627, 0.8223, 0.5248,  ..., 0.9528, 0.6405, 0.7250],\n",
      "          [0.6003, 0.6683, 0.1815,  ..., 0.1380, 0.5429, 0.1697],\n",
      "          [0.3536, 0.8258, 0.9980,  ..., 0.8670, 0.1333, 0.2524],\n",
      "          ...,\n",
      "          [0.8439, 0.2052, 0.4913,  ..., 0.8535, 0.8650, 0.4146],\n",
      "          [0.9661, 0.6638, 0.5335,  ..., 0.5321, 0.4497, 0.9440],\n",
      "          [0.1027, 0.6166, 0.9575,  ..., 0.9065, 0.5234, 0.4178]],\n",
      "\n",
      "         [[0.3016, 0.1824, 0.8960,  ..., 0.4944, 0.5526, 0.4326],\n",
      "          [0.2137, 0.6754, 0.8969,  ..., 0.2397, 0.0997, 0.6402],\n",
      "          [0.0409, 0.0734, 0.9315,  ..., 0.7164, 0.2520, 0.7392],\n",
      "          ...,\n",
      "          [0.0265, 0.5748, 0.5020,  ..., 0.9022, 0.3943, 0.9438],\n",
      "          [0.4261, 0.4003, 0.7660,  ..., 0.0092, 0.6027, 0.5724],\n",
      "          [0.3431, 0.6332, 0.5764,  ..., 0.3485, 0.2866, 0.7285]],\n",
      "\n",
      "         [[0.5548, 0.2193, 0.5001,  ..., 0.1080, 0.0036, 0.9129],\n",
      "          [0.2022, 0.6932, 0.5625,  ..., 0.0551, 0.7753, 0.5103],\n",
      "          [0.0692, 0.8691, 0.4565,  ..., 0.1918, 0.1311, 0.3989],\n",
      "          ...,\n",
      "          [0.7743, 0.5171, 0.6837,  ..., 0.3567, 0.4444, 0.3251],\n",
      "          [0.9785, 0.3145, 0.4944,  ..., 0.1402, 0.8387, 0.8198],\n",
      "          [0.3851, 0.6395, 0.8837,  ..., 0.2582, 0.7732, 0.1060]]],\n",
      "\n",
      "\n",
      "        [[[0.6737, 0.3027, 0.9716,  ..., 0.0179, 0.6792, 0.5136],\n",
      "          [0.4516, 0.7479, 0.4316,  ..., 0.4119, 0.5821, 0.8478],\n",
      "          [0.3864, 0.5811, 0.1531,  ..., 0.9463, 0.7995, 0.4064],\n",
      "          ...,\n",
      "          [0.0965, 0.1057, 0.4467,  ..., 0.5714, 0.9624, 0.7785],\n",
      "          [0.0404, 0.5268, 0.5483,  ..., 0.7173, 0.7026, 0.3525],\n",
      "          [0.0364, 0.2892, 0.1872,  ..., 0.2067, 0.0260, 0.0023]],\n",
      "\n",
      "         [[0.8743, 0.8308, 0.9947,  ..., 0.3496, 0.8628, 0.6888],\n",
      "          [0.8150, 0.9740, 0.3479,  ..., 0.9922, 0.8389, 0.2835],\n",
      "          [0.6709, 0.9580, 0.0383,  ..., 0.4690, 0.1684, 0.3981],\n",
      "          ...,\n",
      "          [0.0717, 0.5461, 0.6314,  ..., 0.9457, 0.6008, 0.3687],\n",
      "          [0.9437, 0.8117, 0.6373,  ..., 0.7519, 0.3685, 0.2595],\n",
      "          [0.6569, 0.1194, 0.1073,  ..., 0.8003, 0.4098, 0.0874]],\n",
      "\n",
      "         [[0.4871, 0.9582, 0.1229,  ..., 0.7382, 0.6934, 0.1377],\n",
      "          [0.2715, 0.2545, 0.3478,  ..., 0.2933, 0.1544, 0.9262],\n",
      "          [0.4817, 0.5264, 0.1886,  ..., 0.3793, 0.5565, 0.8380],\n",
      "          ...,\n",
      "          [0.7983, 0.7310, 0.7762,  ..., 0.8978, 0.6830, 0.0427],\n",
      "          [0.9082, 0.4801, 0.8653,  ..., 0.4888, 0.1297, 0.9948],\n",
      "          [0.5353, 0.0078, 0.6555,  ..., 0.9703, 0.8884, 0.4063]]],\n",
      "\n",
      "\n",
      "        [[[0.9704, 0.0090, 0.9739,  ..., 0.8655, 0.2764, 0.1615],\n",
      "          [0.1368, 0.6095, 0.5142,  ..., 0.9461, 0.6572, 0.6512],\n",
      "          [0.8574, 0.7893, 0.8721,  ..., 0.1071, 0.1039, 0.4384],\n",
      "          ...,\n",
      "          [0.9724, 0.8939, 0.0642,  ..., 0.8925, 0.5216, 0.3184],\n",
      "          [0.0077, 0.8313, 0.0832,  ..., 0.8303, 0.1093, 0.4360],\n",
      "          [0.2849, 0.2650, 0.6503,  ..., 0.8636, 0.2938, 0.9689]],\n",
      "\n",
      "         [[0.0203, 0.1829, 0.5785,  ..., 0.8705, 0.2265, 0.0382],\n",
      "          [0.4797, 0.6602, 0.9738,  ..., 0.0974, 0.4273, 0.9707],\n",
      "          [0.0633, 0.6163, 0.1123,  ..., 0.7258, 0.2116, 0.6889],\n",
      "          ...,\n",
      "          [0.9297, 0.2982, 0.1348,  ..., 0.4074, 0.1867, 0.1980],\n",
      "          [0.7281, 0.3761, 0.9619,  ..., 0.2236, 0.9705, 0.0515],\n",
      "          [0.5844, 0.4140, 0.1126,  ..., 0.9781, 0.5482, 0.3519]],\n",
      "\n",
      "         [[0.3928, 0.4303, 0.6709,  ..., 0.0670, 0.1838, 0.9468],\n",
      "          [0.6632, 0.3867, 0.9622,  ..., 0.0454, 0.9934, 0.4715],\n",
      "          [0.4282, 0.1951, 0.6683,  ..., 0.4622, 0.2589, 0.1871],\n",
      "          ...,\n",
      "          [0.3869, 0.7770, 0.5326,  ..., 0.9486, 0.9255, 0.9438],\n",
      "          [0.0252, 0.4434, 0.6853,  ..., 0.4915, 0.7187, 0.9178],\n",
      "          [0.4514, 0.0260, 0.6213,  ..., 0.8813, 0.7895, 0.8147]]],\n",
      "\n",
      "\n",
      "        ...,\n",
      "\n",
      "\n",
      "        [[[0.9207, 0.6976, 0.7056,  ..., 0.6027, 0.6455, 0.1170],\n",
      "          [0.7380, 0.0686, 0.4689,  ..., 0.7673, 0.7714, 0.2595],\n",
      "          [0.8863, 0.1315, 0.7141,  ..., 0.2711, 0.2348, 0.7686],\n",
      "          ...,\n",
      "          [0.4133, 0.5330, 0.4353,  ..., 0.7883, 0.8400, 0.6037],\n",
      "          [0.1358, 0.9248, 0.9919,  ..., 0.1114, 0.3356, 0.7457],\n",
      "          [0.4631, 0.3948, 0.9411,  ..., 0.9655, 0.4139, 0.2123]],\n",
      "\n",
      "         [[0.6260, 0.2154, 0.3359,  ..., 0.0848, 0.8986, 0.9305],\n",
      "          [0.9943, 0.8506, 0.5705,  ..., 0.8271, 0.8147, 0.7587],\n",
      "          [0.1189, 0.8730, 0.1504,  ..., 0.4323, 0.8751, 0.5566],\n",
      "          ...,\n",
      "          [0.2769, 0.2663, 0.4677,  ..., 0.9980, 0.2948, 0.2915],\n",
      "          [0.7252, 0.3758, 0.5447,  ..., 0.3182, 0.3519, 0.6462],\n",
      "          [0.7832, 0.5647, 0.7680,  ..., 0.4827, 0.6305, 0.4668]],\n",
      "\n",
      "         [[0.6018, 0.6827, 0.6352,  ..., 0.5857, 0.7954, 0.9899],\n",
      "          [0.3308, 0.9894, 0.6703,  ..., 0.5266, 0.7683, 0.8606],\n",
      "          [0.0997, 0.3424, 0.5960,  ..., 0.0608, 0.8198, 0.3912],\n",
      "          ...,\n",
      "          [0.6017, 0.9894, 0.5082,  ..., 0.8602, 0.4546, 0.0965],\n",
      "          [0.7426, 0.0702, 0.4227,  ..., 0.1760, 0.7042, 0.5438],\n",
      "          [0.9412, 0.5814, 0.5331,  ..., 0.2774, 0.4750, 0.2310]]],\n",
      "\n",
      "\n",
      "        [[[0.3778, 0.8076, 0.0497,  ..., 0.5783, 0.7478, 0.0774],\n",
      "          [0.4700, 0.0280, 0.6034,  ..., 0.3022, 0.3649, 0.0446],\n",
      "          [0.8442, 0.4744, 0.3958,  ..., 0.6414, 0.0965, 0.7320],\n",
      "          ...,\n",
      "          [0.7748, 0.2423, 0.1584,  ..., 0.5870, 0.7304, 0.3456],\n",
      "          [0.7635, 0.8586, 0.1247,  ..., 0.9477, 0.6591, 0.6311],\n",
      "          [0.1535, 0.1199, 0.9100,  ..., 0.7667, 0.9822, 0.8726]],\n",
      "\n",
      "         [[0.3920, 0.7270, 0.1377,  ..., 0.8787, 0.5019, 0.2552],\n",
      "          [0.5005, 0.2989, 0.3963,  ..., 0.3854, 0.6529, 0.0515],\n",
      "          [0.1286, 0.6857, 0.7600,  ..., 0.9616, 0.2374, 0.2541],\n",
      "          ...,\n",
      "          [0.4378, 0.7366, 0.4708,  ..., 0.0301, 0.0044, 0.2372],\n",
      "          [0.6554, 0.5053, 0.6115,  ..., 0.5043, 0.8165, 0.2388],\n",
      "          [0.9513, 0.0077, 0.9862,  ..., 0.2588, 0.6865, 0.5710]],\n",
      "\n",
      "         [[0.5825, 0.8777, 0.5435,  ..., 0.3221, 0.0579, 0.2964],\n",
      "          [0.3553, 0.3314, 0.7257,  ..., 0.3796, 0.2905, 0.2003],\n",
      "          [0.4738, 0.8489, 0.2862,  ..., 0.1459, 0.9743, 0.7617],\n",
      "          ...,\n",
      "          [0.6599, 0.5977, 0.3799,  ..., 0.0795, 0.5252, 0.1396],\n",
      "          [0.0327, 0.0256, 0.8524,  ..., 0.6268, 0.2098, 0.9695],\n",
      "          [0.2689, 0.0562, 0.2619,  ..., 0.5140, 0.4281, 0.5081]]],\n",
      "\n",
      "\n",
      "        [[[0.5146, 0.6217, 0.9979,  ..., 0.9275, 0.4102, 0.0022],\n",
      "          [0.5479, 0.6213, 0.8852,  ..., 0.5801, 0.4384, 0.9030],\n",
      "          [0.7340, 0.9967, 0.7346,  ..., 0.4906, 0.0070, 0.5268],\n",
      "          ...,\n",
      "          [0.3146, 0.4867, 0.3131,  ..., 0.8610, 0.2406, 0.5812],\n",
      "          [0.6564, 0.8566, 0.9646,  ..., 0.1673, 0.8397, 0.7371],\n",
      "          [0.6528, 0.9985, 0.9112,  ..., 0.2161, 0.9118, 0.6913]],\n",
      "\n",
      "         [[0.2257, 0.9583, 0.4392,  ..., 0.3372, 0.9659, 0.5254],\n",
      "          [0.0183, 0.8600, 0.2276,  ..., 0.8931, 0.7730, 0.9618],\n",
      "          [0.0707, 0.7851, 0.4744,  ..., 0.8872, 0.0113, 0.4612],\n",
      "          ...,\n",
      "          [0.7678, 0.4946, 0.0977,  ..., 0.9863, 0.3405, 0.2394],\n",
      "          [0.2117, 0.9965, 0.0804,  ..., 0.8763, 0.3028, 0.3315],\n",
      "          [0.7981, 0.5195, 0.9453,  ..., 0.1766, 0.2830, 0.3279]],\n",
      "\n",
      "         [[0.5391, 0.3365, 0.2236,  ..., 0.5821, 0.3861, 0.2530],\n",
      "          [0.2645, 0.5410, 0.2500,  ..., 0.5245, 0.8791, 0.6671],\n",
      "          [0.7303, 0.3781, 0.4847,  ..., 0.5280, 0.2672, 0.6861],\n",
      "          ...,\n",
      "          [0.0921, 0.0803, 0.6293,  ..., 0.5940, 0.2299, 0.1112],\n",
      "          [0.2897, 0.4982, 0.8729,  ..., 0.3659, 0.9723, 0.0738],\n",
      "          [0.6864, 0.5851, 0.5294,  ..., 0.5403, 0.7166, 0.4962]]]])\n"
     ]
    }
   ],
   "source": [
    "\n",
    "# Rule of thumb\n",
    "# The 0th dimension is always the outermost axis — \n",
    "# the one you’d iterate over first if you looped through the tensor.\n",
    "\n",
    "# So if your tensor shape is (batch, channels, height, width) (like in CNNs):\n",
    "# 0th → batch\n",
    "# 1st → channels\n",
    "# 2nd → height\n",
    "# 3rd → width\n",
    "\n",
    "img_batch = torch.rand(32, 3, 224, 224)\n",
    "\n",
    "# Dimension\tMeaning\n",
    "# 0th\tbatch of 32 images\n",
    "# 1st\t3 color channels (RGB)\n",
    "# 2nd\t224 pixels tall\n",
    "# 3rd\t224 pixels wide\n",
    "\n",
    "print(img_batch)"
   ]
  },
  {
   "cell_type": "code",
   "execution_count": 139,
   "id": "030c4f42-60e6-4c40-8bf8-a7e8987bd2cf",
   "metadata": {},
   "outputs": [
    {
     "data": {
      "text/plain": [
       "(tensor([[[1, 2, 3],\n",
       "          [4, 5, 6],\n",
       "          [7, 8, 9]]]),\n",
       " torch.Size([1, 3, 3]))"
      ]
     },
     "execution_count": 139,
     "metadata": {},
     "output_type": "execute_result"
    }
   ],
   "source": [
    "# Create a tensor \n",
    "import torch\n",
    "x = torch.arange(1, 10).reshape(1, 3, 3)\n",
    "x, x.shape"
   ]
  },
  {
   "cell_type": "code",
   "execution_count": 140,
   "id": "4a5919a4-3588-4332-9e86-c62f459c21ff",
   "metadata": {},
   "outputs": [
    {
     "data": {
      "text/plain": [
       "tensor([[1, 2, 3]])"
      ]
     },
     "execution_count": 140,
     "metadata": {},
     "output_type": "execute_result"
    }
   ],
   "source": [
    "# Get all values of 0th dimension and the 0 index of 1st dimension\n",
    "x[:, 0]"
   ]
  },
  {
   "cell_type": "code",
   "execution_count": 141,
   "id": "976e78eb-4eaa-4867-bdf4-2d9eb70873a0",
   "metadata": {},
   "outputs": [
    {
     "data": {
      "text/plain": [
       "tensor([[2, 5, 8]])"
      ]
     },
     "execution_count": 141,
     "metadata": {},
     "output_type": "execute_result"
    }
   ],
   "source": [
    "# Get all values of 0th & 1st dimensions but only index 1 of 2nd dimension\n",
    "x[:, :, 1]"
   ]
  },
  {
   "cell_type": "code",
   "execution_count": 142,
   "id": "ec8be668-e600-47e4-9a12-a792d681e6bd",
   "metadata": {},
   "outputs": [
    {
     "data": {
      "text/plain": [
       "tensor([1, 2, 3])"
      ]
     },
     "execution_count": 142,
     "metadata": {},
     "output_type": "execute_result"
    }
   ],
   "source": [
    "# Get index 0 of 0th and 1st dimension and all values of 2nd dimension \n",
    "x[0, 0, :] # same as x[0][0]"
   ]
  },
  {
   "cell_type": "code",
   "execution_count": 143,
   "id": "69297c17-01d7-47c3-83b5-43f3d6fd858c",
   "metadata": {},
   "outputs": [
    {
     "name": "stdout",
     "output_type": "stream",
     "text": [
      "PyTorch tensors & NumPy\n"
     ]
    }
   ],
   "source": [
    "# PyTorch tensors & NumPy\n",
    "print(\"PyTorch tensors & NumPy\")"
   ]
  },
  {
   "cell_type": "code",
   "execution_count": 144,
   "id": "4e57b14d-3dac-4f06-bc92-9c6a37f57c43",
   "metadata": {},
   "outputs": [
    {
     "name": "stdout",
     "output_type": "stream",
     "text": [
      "\n",
      "\n",
      "The two main methods you'll want to use for NumPy to PyTorch (and back again) are:\n",
      "\n",
      "torch.from_numpy(ndarray) - NumPy array -> PyTorch tensor.\n",
      "torch.Tensor.numpy() - PyTorch tensor -> NumPy array.\n",
      "\n",
      "\n"
     ]
    }
   ],
   "source": [
    "print('''\n",
    "\n",
    "The two main methods you'll want to use for NumPy to PyTorch (and back again) are:\n",
    "\n",
    "torch.from_numpy(ndarray) - NumPy array -> PyTorch tensor.\n",
    "torch.Tensor.numpy() - PyTorch tensor -> NumPy array.\n",
    "\n",
    "''')"
   ]
  },
  {
   "cell_type": "code",
   "execution_count": 145,
   "id": "3fb10abb-4430-466a-96e4-c5c9deea6dd4",
   "metadata": {},
   "outputs": [
    {
     "data": {
      "text/plain": [
       "(array([1., 2., 3., 4., 5., 6., 7.]),\n",
       " tensor([1., 2., 3., 4., 5., 6., 7.], dtype=torch.float64))"
      ]
     },
     "execution_count": 145,
     "metadata": {},
     "output_type": "execute_result"
    }
   ],
   "source": [
    "# NumPy array to tensor\n",
    "import torch\n",
    "import numpy as np\n",
    "array = np.arange(1.0, 8.0)\n",
    "tensor = torch.from_numpy(array)\n",
    "array, tensor"
   ]
  },
  {
   "cell_type": "code",
   "execution_count": 146,
   "id": "af7491f9-9d6e-4685-9d0c-09ce45afdc20",
   "metadata": {},
   "outputs": [
    {
     "data": {
      "text/plain": [
       "tensor([1., 2., 3., 4., 5., 6., 7.])"
      ]
     },
     "execution_count": 146,
     "metadata": {},
     "output_type": "execute_result"
    }
   ],
   "source": [
    "# By default, NumPy arrays are created with the datatype float64 and \n",
    "# if you convert it to a PyTorch tensor, it'll keep the same datatype (as above).\n",
    "\n",
    "# However, many PyTorch calculations default to using float32.\n",
    "# So if you want to convert your NumPy array (float64) -> PyTorch tensor (float64) \n",
    "# -> PyTorch tensor (float32), you can use tensor = torch.from_numpy(array).type(torch.float32).\n",
    "\n",
    "tensor2 = torch.from_numpy(array).type(torch.float32)\n",
    "tensor2"
   ]
  },
  {
   "cell_type": "code",
   "execution_count": 147,
   "id": "c435754e-5675-4cfb-9568-7aeb327a928e",
   "metadata": {},
   "outputs": [
    {
     "data": {
      "text/plain": [
       "(array([2., 3., 4., 5., 6., 7., 8.]),\n",
       " tensor([1., 2., 3., 4., 5., 6., 7.], dtype=torch.float64))"
      ]
     },
     "execution_count": 147,
     "metadata": {},
     "output_type": "execute_result"
    }
   ],
   "source": [
    "# Because we reassigned tensor above, if you change the tensor, the array stays the same\n",
    "# Change the array, keep the tensor\n",
    "array = array + 1\n",
    "array, tensor"
   ]
  },
  {
   "cell_type": "code",
   "execution_count": 148,
   "id": "ff35b137-6d23-4b31-9cf9-5a9b41285a5a",
   "metadata": {},
   "outputs": [
    {
     "data": {
      "text/plain": [
       "(tensor([1., 1., 1., 1., 1., 1., 1.]),\n",
       " array([1., 1., 1., 1., 1., 1., 1.], dtype=float32))"
      ]
     },
     "execution_count": 148,
     "metadata": {},
     "output_type": "execute_result"
    }
   ],
   "source": [
    "# And if you want to go from PyTorch tensor to NumPy array, you can call tensor.numpy()\n",
    "\n",
    "# Tensor to NumPy array\n",
    "tensor = torch.ones(7) # create a tensor of ones with dtype=float32\n",
    "numpy_tensor = tensor.numpy() # will be dtype=float32 unless changed\n",
    "tensor, numpy_tensor"
   ]
  },
  {
   "cell_type": "code",
   "execution_count": 149,
   "id": "a13fd562-4240-46b9-a78f-d46cedf8dd4f",
   "metadata": {},
   "outputs": [
    {
     "data": {
      "text/plain": [
       "(tensor([1., 1., 1., 1., 1., 1., 1.]),\n",
       " array([1., 1., 1., 1., 1., 1., 1.], dtype=float32))"
      ]
     },
     "execution_count": 149,
     "metadata": {},
     "output_type": "execute_result"
    }
   ],
   "source": [
    "# And if you want to go from PyTorch tensor to NumPy array, you can call tensor.numpy()\n",
    "\n",
    "# Tensor to NumPy array\n",
    "tensor = torch.ones(7) # create a tensor of ones with dtype=float32\n",
    "numpy_tensor = tensor.numpy() # will be dtype=float32 unless changed\n",
    "tensor, numpy_tensor"
   ]
  },
  {
   "cell_type": "code",
   "execution_count": 150,
   "id": "f79dc79f-794a-4845-964f-d572a4ebb6b2",
   "metadata": {},
   "outputs": [
    {
     "data": {
      "text/plain": [
       "(tensor([2., 2., 2., 2., 2., 2., 2.]),\n",
       " array([1., 1., 1., 1., 1., 1., 1.], dtype=float32))"
      ]
     },
     "execution_count": 150,
     "metadata": {},
     "output_type": "execute_result"
    }
   ],
   "source": [
    "# And the same rule applies as above, if you change the original tensor, the new numpy_tensor stays the same.\n",
    "\n",
    "# Change the tensor, keep the array the same\n",
    "tensor = tensor + 1\n",
    "tensor, numpy_tensor"
   ]
  },
  {
   "cell_type": "code",
   "execution_count": 151,
   "id": "9c3b7077-3fce-4a22-a198-dafafb07af7d",
   "metadata": {},
   "outputs": [
    {
     "name": "stdout",
     "output_type": "stream",
     "text": [
      "Reproducibility (trying to take the random out of random)\n"
     ]
    }
   ],
   "source": [
    "print(\"Reproducibility (trying to take the random out of random)\")"
   ]
  },
  {
   "cell_type": "code",
   "execution_count": 152,
   "id": "1de22e08-955b-45c6-aeae-583ecf8b8d91",
   "metadata": {},
   "outputs": [
    {
     "name": "stdout",
     "output_type": "stream",
     "text": [
      "Tensor A:\n",
      "tensor([[0.1846, 0.9145, 0.3304, 0.2768],\n",
      "        [0.1257, 0.8037, 0.8689, 0.4324],\n",
      "        [0.3456, 0.0885, 0.5683, 0.3789]])\n",
      "\n",
      "Tensor B:\n",
      "tensor([[0.5191, 0.7953, 0.1029, 0.6398],\n",
      "        [0.9884, 0.4466, 0.1504, 0.5119],\n",
      "        [0.7919, 0.3849, 0.8022, 0.4126]])\n",
      "\n",
      "Does Tensor A equal Tensor B? (anywhere)\n"
     ]
    },
    {
     "data": {
      "text/plain": [
       "tensor([[False, False, False, False],\n",
       "        [False, False, False, False],\n",
       "        [False, False, False, False]])"
      ]
     },
     "execution_count": 152,
     "metadata": {},
     "output_type": "execute_result"
    }
   ],
   "source": [
    "import torch\n",
    "\n",
    "# Create two random tensors\n",
    "random_tensor_A = torch.rand(3, 4)\n",
    "random_tensor_B = torch.rand(3, 4)\n",
    "\n",
    "print(f\"Tensor A:\\n{random_tensor_A}\\n\")\n",
    "print(f\"Tensor B:\\n{random_tensor_B}\\n\")\n",
    "print(f\"Does Tensor A equal Tensor B? (anywhere)\")\n",
    "random_tensor_A == random_tensor_B"
   ]
  },
  {
   "cell_type": "code",
   "execution_count": 153,
   "id": "1278d8fc-57e5-4e13-96df-2a207c203769",
   "metadata": {},
   "outputs": [],
   "source": [
    "# But what if you wanted to create two random tensors with the same values.\n",
    "# As in, the tensors would still contain random values but they would be of the same flavour.\n",
    "\n",
    "# That's where torch.manual_seed(seed) comes in, where seed is an integer (like 42 but it could be anything) \n",
    "# that flavours the randomness"
   ]
  },
  {
   "cell_type": "code",
   "execution_count": 154,
   "id": "f4c046e2-c00c-4c8d-bca0-cf70fe349042",
   "metadata": {},
   "outputs": [
    {
     "name": "stdout",
     "output_type": "stream",
     "text": [
      "Tensor C:\n",
      "tensor([[0.8823, 0.9150, 0.3829, 0.9593],\n",
      "        [0.3904, 0.6009, 0.2566, 0.7936],\n",
      "        [0.9408, 0.1332, 0.9346, 0.5936]])\n",
      "\n",
      "Tensor D:\n",
      "tensor([[0.8823, 0.9150, 0.3829, 0.9593],\n",
      "        [0.3904, 0.6009, 0.2566, 0.7936],\n",
      "        [0.9408, 0.1332, 0.9346, 0.5936]])\n",
      "\n",
      "Does Tensor C equal Tensor D? (anywhere)\n"
     ]
    },
    {
     "data": {
      "text/plain": [
       "tensor([[True, True, True, True],\n",
       "        [True, True, True, True],\n",
       "        [True, True, True, True]])"
      ]
     },
     "execution_count": 154,
     "metadata": {},
     "output_type": "execute_result"
    }
   ],
   "source": [
    "import torch\n",
    "import random\n",
    "\n",
    "# Set the random seed\n",
    "RANDOM_SEED=42 # try changing this to different values and see what happens to the numbers below\n",
    "torch.manual_seed(seed=RANDOM_SEED) \n",
    "random_tensor_C = torch.rand(3, 4)\n",
    "\n",
    "# Have to reset the seed every time a new rand() is called \n",
    "# Without this, tensor_D would be different to tensor_C \n",
    "torch.random.manual_seed(seed=RANDOM_SEED) # try commenting this line out and seeing what happens\n",
    "random_tensor_D = torch.rand(3, 4)\n",
    "\n",
    "print(f\"Tensor C:\\n{random_tensor_C}\\n\")\n",
    "print(f\"Tensor D:\\n{random_tensor_D}\\n\")\n",
    "print(f\"Does Tensor C equal Tensor D? (anywhere)\")\n",
    "random_tensor_C == random_tensor_D"
   ]
  },
  {
   "cell_type": "code",
   "execution_count": null,
   "id": "78978c95-d889-4668-8105-0a90793fc521",
   "metadata": {},
   "outputs": [],
   "source": []
  },
  {
   "cell_type": "code",
   "execution_count": 155,
   "id": "c6f1a554-9b0d-4f9f-be6d-0be621ecdf7d",
   "metadata": {},
   "outputs": [
    {
     "name": "stdout",
     "output_type": "stream",
     "text": [
      "Running tensors on GPUs (and making faster computations)\n"
     ]
    }
   ],
   "source": [
    "print(\"Running tensors on GPUs (and making faster computations)\")"
   ]
  },
  {
   "cell_type": "code",
   "execution_count": 156,
   "id": "46ad127c-7e9f-4ca9-bd35-06451f734e46",
   "metadata": {},
   "outputs": [],
   "source": [
    "# Getting PyTorch to run on the GPU\n",
    "\n",
    "# Once you've got a GPU ready to access, the next step is getting PyTorch to use for storing data (tensors) \n",
    "# and computing on data (performing operations on tensors).\n",
    "\n",
    "# To do so, you can use the torch.cuda package"
   ]
  },
  {
   "cell_type": "code",
   "execution_count": 157,
   "id": "c69ef54d-ee69-46a3-b290-240227d9df44",
   "metadata": {},
   "outputs": [
    {
     "data": {
      "text/plain": [
       "True"
      ]
     },
     "execution_count": 157,
     "metadata": {},
     "output_type": "execute_result"
    }
   ],
   "source": [
    "# Check for GPU\n",
    "import torch\n",
    "torch.cuda.is_available()"
   ]
  },
  {
   "cell_type": "code",
   "execution_count": 158,
   "id": "4dec5ab3-5cb9-49f8-8361-59f90844772b",
   "metadata": {},
   "outputs": [
    {
     "name": "stdout",
     "output_type": "stream",
     "text": [
      "Wed Oct 22 15:58:33 2025       \n",
      "+-----------------------------------------------------------------------------------------+\n",
      "| NVIDIA-SMI 550.163.01             Driver Version: 550.163.01     CUDA Version: 12.4     |\n",
      "|-----------------------------------------+------------------------+----------------------+\n",
      "| GPU  Name                 Persistence-M | Bus-Id          Disp.A | Volatile Uncorr. ECC |\n",
      "| Fan  Temp   Perf          Pwr:Usage/Cap |           Memory-Usage | GPU-Util  Compute M. |\n",
      "|                                         |                        |               MIG M. |\n",
      "|=========================================+========================+======================|\n",
      "|   0  NVIDIA GeForce RTX 4050 ...    Off |   00000000:01:00.0 Off |                  N/A |\n",
      "| N/A   66C    P3             11W /   55W |      12MiB /   6141MiB |      0%      Default |\n",
      "|                                         |                        |                  N/A |\n",
      "+-----------------------------------------+------------------------+----------------------+\n",
      "                                                                                         \n",
      "+-----------------------------------------------------------------------------------------+\n",
      "| Processes:                                                                              |\n",
      "|  GPU   GI   CI        PID   Type   Process name                              GPU Memory |\n",
      "|        ID   ID                                                               Usage      |\n",
      "|=========================================================================================|\n",
      "|    0   N/A  N/A    959060      G   /usr/lib/xorg/Xorg                              4MiB |\n",
      "+-----------------------------------------------------------------------------------------+\n"
     ]
    }
   ],
   "source": [
    "!nvidia-smi\n"
   ]
  },
  {
   "cell_type": "code",
   "execution_count": 159,
   "id": "d9572ffc-a052-48ef-bc05-5cdf4a0faa8c",
   "metadata": {},
   "outputs": [
    {
     "name": "stdout",
     "output_type": "stream",
     "text": [
      "CUDA available: True\n",
      "GPU name: NVIDIA GeForce RTX 4050 Laptop GPU\n",
      "Memory allocated: 0.00 GB\n",
      "Memory reserved:  0.00 GB\n",
      "Total GPU memory: 5.76 GB\n"
     ]
    }
   ],
   "source": [
    "import torch\n",
    "\n",
    "# Check if CUDA (GPU) is available\n",
    "print(\"CUDA available:\", torch.cuda.is_available())\n",
    "\n",
    "# Get device name\n",
    "if torch.cuda.is_available():\n",
    "    print(\"GPU name:\", torch.cuda.get_device_name(0))\n",
    "    \n",
    "    # GPU memory usage\n",
    "    mem_allocated = torch.cuda.memory_allocated(0) / 1024**3\n",
    "    mem_reserved = torch.cuda.memory_reserved(0) / 1024**3\n",
    "    mem_total = torch.cuda.get_device_properties(0).total_memory / 1024**3\n",
    "    \n",
    "    print(f\"Memory allocated: {mem_allocated:.2f} GB\")\n",
    "    print(f\"Memory reserved:  {mem_reserved:.2f} GB\")\n",
    "    print(f\"Total GPU memory: {mem_total:.2f} GB\")\n"
   ]
  },
  {
   "cell_type": "code",
   "execution_count": 160,
   "id": "fb2bb09f-4f50-4153-91a5-765bf139f134",
   "metadata": {},
   "outputs": [
    {
     "data": {
      "text/plain": [
       "'cuda'"
      ]
     },
     "execution_count": 160,
     "metadata": {},
     "output_type": "execute_result"
    }
   ],
   "source": [
    "# Set device type\n",
    "device = \"cuda\" if torch.cuda.is_available() else \"cpu\"\n",
    "device"
   ]
  },
  {
   "cell_type": "code",
   "execution_count": 161,
   "id": "c40e7b92-0ffa-4dc3-8802-8437e00f5451",
   "metadata": {},
   "outputs": [
    {
     "data": {
      "text/plain": [
       "1"
      ]
     },
     "execution_count": 161,
     "metadata": {},
     "output_type": "execute_result"
    }
   ],
   "source": [
    "# You can count the number of GPUs PyTorch has access to using \n",
    "torch.cuda.device_count()"
   ]
  },
  {
   "cell_type": "code",
   "execution_count": 162,
   "id": "e00aa92c-7959-4696-935e-fd248ff1cc59",
   "metadata": {},
   "outputs": [
    {
     "name": "stdout",
     "output_type": "stream",
     "text": [
      "Putting tensors (and models) on the GPU\n"
     ]
    }
   ],
   "source": [
    "print(\"Putting tensors (and models) on the GPU\")\n",
    "\n",
    "# You can put tensors (and models, we'll see this later) on a specific device by calling to(device) on them.\n",
    "# Where device is the target device you'd like the tensor (or model) to go to."
   ]
  },
  {
   "cell_type": "code",
   "execution_count": 163,
   "id": "5cdcf392-e73d-44b5-9f7b-da39250466cf",
   "metadata": {},
   "outputs": [
    {
     "name": "stdout",
     "output_type": "stream",
     "text": [
      "tensor([1, 2, 3]) cpu\n"
     ]
    },
    {
     "data": {
      "text/plain": [
       "tensor([1, 2, 3], device='cuda:0')"
      ]
     },
     "execution_count": 163,
     "metadata": {},
     "output_type": "execute_result"
    }
   ],
   "source": [
    "# Create tensor (default on CPU)\n",
    "tensor = torch.tensor([1, 2, 3])\n",
    "\n",
    "# Tensor not on GPU\n",
    "print(tensor, tensor.device)\n",
    "\n",
    "# Move tensor to GPU (if available)\n",
    "tensor_on_gpu = tensor.to(device)\n",
    "tensor_on_gpu\n",
    "\n",
    "# If two GPUs were available, they'd be 'cuda:0' and 'cuda:1' respectively, up to 'cuda:n')."
   ]
  },
  {
   "cell_type": "code",
   "execution_count": 164,
   "id": "cf61839f-8d97-47c9-aee0-95a2fe544f3a",
   "metadata": {},
   "outputs": [
    {
     "name": "stdout",
     "output_type": "stream",
     "text": [
      "Moving tensors back to the CPU\n"
     ]
    },
    {
     "data": {
      "text/plain": [
       "array([1, 2, 3])"
      ]
     },
     "execution_count": 164,
     "metadata": {},
     "output_type": "execute_result"
    }
   ],
   "source": [
    "print(\"Moving tensors back to the CPU\")\n",
    "\n",
    "# What if we wanted to move the tensor back to CPU?\n",
    "# For example, you'll want to do this if you want to interact with your tensors with NumPy \n",
    "# (NumPy does not leverage the GPU).\n",
    "\n",
    "# Let's try using the torch.Tensor.numpy() method on our tensor_on_gpu\n",
    "\n",
    "# If tensor is on GPU, can't transform it to NumPy (this will error)\n",
    "# tensor_on_gpu.numpy()\n",
    "\n",
    "# Instead, to get a tensor back to CPU and usable with NumPy we can use Tensor.cpu().\n",
    "# This copies the tensor to CPU memory so it's usable with CPUs.\n",
    "\n",
    "# Instead, copy the tensor back to cpu\n",
    "tensor_back_on_cpu = tensor_on_gpu.cpu().numpy()\n",
    "tensor_back_on_cpu"
   ]
  },
  {
   "cell_type": "code",
   "execution_count": 165,
   "id": "36ef55d1-e3e1-4973-9915-30f8450c17a6",
   "metadata": {},
   "outputs": [
    {
     "data": {
      "text/plain": [
       "tensor([1, 2, 3], device='cuda:0')"
      ]
     },
     "execution_count": 165,
     "metadata": {},
     "output_type": "execute_result"
    }
   ],
   "source": [
    "# the original tensor is still on GPU.\n",
    "tensor_on_gpu"
   ]
  },
  {
   "cell_type": "code",
   "execution_count": null,
   "id": "09c92160-a9e0-42df-97c2-f28d72fc51ce",
   "metadata": {},
   "outputs": [],
   "source": []
  },
  {
   "cell_type": "code",
   "execution_count": 166,
   "id": "c9308a9d-9f54-4255-b350-211d6a7abb1f",
   "metadata": {},
   "outputs": [],
   "source": [
    "# https://www.learnpytorch.io/02_pytorch_classification/"
   ]
  },
  {
   "cell_type": "code",
   "execution_count": null,
   "id": "7eb30a67-aa3f-4832-90b0-db75c4ffe97b",
   "metadata": {},
   "outputs": [],
   "source": []
  }
 ],
 "metadata": {
  "kernelspec": {
   "display_name": "Python 3 (ipykernel)",
   "language": "python",
   "name": "python3"
  },
  "language_info": {
   "codemirror_mode": {
    "name": "ipython",
    "version": 3
   },
   "file_extension": ".py",
   "mimetype": "text/x-python",
   "name": "python",
   "nbconvert_exporter": "python",
   "pygments_lexer": "ipython3",
   "version": "3.12.2"
  }
 },
 "nbformat": 4,
 "nbformat_minor": 5
}
