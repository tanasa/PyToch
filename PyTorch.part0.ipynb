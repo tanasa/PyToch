{
 "cells": [
  {
   "cell_type": "code",
   "execution_count": 1,
   "id": "07ef10ec-11e4-4bf1-a73d-c90cf46183ea",
   "metadata": {},
   "outputs": [],
   "source": [
    "# GPT5 : extracting weights and biases from each layer in PyTorch is straightforward, \n",
    "# and you can do it in several ways depending on how you structured your model."
   ]
  },
  {
   "cell_type": "code",
   "execution_count": 2,
   "id": "47f82839-656a-4169-bfbc-5f28737d9481",
   "metadata": {},
   "outputs": [
    {
     "name": "stdout",
     "output_type": "stream",
     "text": [
      "\n",
      "| Method             | Code                                          | Best for         |\n",
      "| ------------------ | --------------------------------------------- | ---------------- |\n",
      "| Direct             | `model.fc1.weight`                            | Few known layers |\n",
      "| Loop               | `for name, param in model.named_parameters()` | Medium models    |\n",
      "| `state_dict()`     | `model.state_dict()`                          | Saving / loading |\n",
      "| List comprehension | `[p for n, p in model.named_parameters()]`    | Quick extraction |\n",
      "\n"
     ]
    }
   ],
   "source": [
    "print('''\n",
    "| Method             | Code                                          | Best for         |\n",
    "| ------------------ | --------------------------------------------- | ---------------- |\n",
    "| Direct             | `model.fc1.weight`                            | Few known layers |\n",
    "| Loop               | `for name, param in model.named_parameters()` | Medium models    |\n",
    "| `state_dict()`     | `model.state_dict()`                          | Saving / loading |\n",
    "| List comprehension | `[p for n, p in model.named_parameters()]`    | Quick extraction |\n",
    "''')"
   ]
  },
  {
   "cell_type": "code",
   "execution_count": 3,
   "id": "cc032d7c-e662-443b-94e8-4de661c8b4ae",
   "metadata": {},
   "outputs": [
    {
     "name": "stdout",
     "output_type": "stream",
     "text": [
      "\n",
      "\n",
      "You can get every layer’s weights and biases through .named_parameters() or .state_dict() \n",
      "— both return everything as tensors that you can inspect, modify, or save.\n",
      "\n",
      "\n"
     ]
    }
   ],
   "source": [
    "print('''\n",
    "\n",
    "You can get every layer’s weights and biases through .named_parameters() or .state_dict() \n",
    "— both return everything as tensors that you can inspect, modify, or save.\n",
    "\n",
    "''')"
   ]
  },
  {
   "cell_type": "code",
   "execution_count": 4,
   "id": "3a88e1d6-f344-4c79-b336-bda549fb3664",
   "metadata": {},
   "outputs": [],
   "source": [
    "import torch\n",
    "import torch.nn as nn\n",
    "\n",
    "class SimpleNet(nn.Module):\n",
    "    def __init__(self):\n",
    "        super(SimpleNet, self).__init__()\n",
    "        self.fc1 = nn.Linear(4, 3)\n",
    "        self.fc2 = nn.Linear(3, 2)\n",
    "    \n",
    "    def forward(self, x):\n",
    "        x = torch.relu(self.fc1(x))\n",
    "        x = self.fc2(x)\n",
    "        return x\n",
    "\n",
    "model = SimpleNet()\n"
   ]
  },
  {
   "cell_type": "code",
   "execution_count": 5,
   "id": "27f5e573-a035-4001-9277-5363055c79de",
   "metadata": {},
   "outputs": [],
   "source": [
    "# Access weights and biases layer by layer"
   ]
  },
  {
   "cell_type": "code",
   "execution_count": 6,
   "id": "8cb3d76f-ede1-46f0-960a-cb1683867007",
   "metadata": {},
   "outputs": [
    {
     "name": "stdout",
     "output_type": "stream",
     "text": [
      "Layer 1 weight:\n",
      " Parameter containing:\n",
      "tensor([[ 0.3943, -0.2221, -0.4071, -0.4590],\n",
      "        [ 0.3661,  0.2552, -0.1295,  0.4063],\n",
      "        [ 0.1718,  0.2025, -0.3189,  0.3821]], requires_grad=True)\n",
      "Layer 1 bias:\n",
      " Parameter containing:\n",
      "tensor([ 0.3646,  0.4854, -0.1835], requires_grad=True)\n",
      "\n",
      "Layer 2 weight:\n",
      " Parameter containing:\n",
      "tensor([[-0.1182, -0.4655,  0.3048],\n",
      "        [ 0.2157, -0.1915, -0.0364]], requires_grad=True)\n",
      "Layer 2 bias:\n",
      " Parameter containing:\n",
      "tensor([-0.2613,  0.5708], requires_grad=True)\n"
     ]
    }
   ],
   "source": [
    "# Option A — Direct attribute access\n",
    "\n",
    "print(\"Layer 1 weight:\\n\", model.fc1.weight)\n",
    "print(\"Layer 1 bias:\\n\", model.fc1.bias)\n",
    "\n",
    "print(\"\\nLayer 2 weight:\\n\", model.fc2.weight)\n",
    "print(\"Layer 2 bias:\\n\", model.fc2.bias)\n"
   ]
  },
  {
   "cell_type": "code",
   "execution_count": 7,
   "id": "a3c4cf93-d978-4fb3-a5e7-e957a24cc377",
   "metadata": {},
   "outputs": [
    {
     "name": "stdout",
     "output_type": "stream",
     "text": [
      "[[ 0.39430153 -0.22207856 -0.40712857 -0.45899302]\n",
      " [ 0.36606944  0.25522935 -0.12950242  0.4062966 ]\n",
      " [ 0.17177743  0.2024656  -0.3189103   0.38212007]]\n",
      "[ 0.36464638  0.4854222  -0.18354893]\n"
     ]
    }
   ],
   "source": [
    "# You can also convert them to NumPy arrays:\n",
    "\n",
    "w1 = model.fc1.weight.detach().numpy()\n",
    "b1 = model.fc1.bias.detach().numpy()\n",
    "\n",
    "print(w1)\n",
    "print(b1)"
   ]
  },
  {
   "cell_type": "code",
   "execution_count": 8,
   "id": "fd45181e-1a0f-4cf9-845e-7ebdbb3939d0",
   "metadata": {},
   "outputs": [
    {
     "name": "stdout",
     "output_type": "stream",
     "text": [
      "[[-0.11822709 -0.4654672   0.3048426 ]\n",
      " [ 0.21570027 -0.19147278 -0.03637408]]\n",
      "[-0.26125187  0.5708135 ]\n"
     ]
    }
   ],
   "source": [
    "# You can also convert them to NumPy arrays:\n",
    "\n",
    "w2 = model.fc2.weight.detach().numpy()\n",
    "b2 = model.fc2.bias.detach().numpy()\n",
    "\n",
    "print(w2)\n",
    "print(b2)"
   ]
  },
  {
   "cell_type": "code",
   "execution_count": 9,
   "id": "b965c00b-ea07-49cb-9475-452de3ebdd01",
   "metadata": {},
   "outputs": [
    {
     "name": "stdout",
     "output_type": "stream",
     "text": [
      "<generator object Module.named_parameters at 0x76988951bc40>\n"
     ]
    }
   ],
   "source": [
    "print(model.named_parameters())"
   ]
  },
  {
   "cell_type": "code",
   "execution_count": 10,
   "id": "9a36e3ad-749d-422f-a19a-8b263928b840",
   "metadata": {},
   "outputs": [
    {
     "name": "stdout",
     "output_type": "stream",
     "text": [
      "fc1.weight → weight:\n",
      "tensor([[ 0.3943, -0.2221, -0.4071, -0.4590],\n",
      "        [ 0.3661,  0.2552, -0.1295,  0.4063],\n",
      "        [ 0.1718,  0.2025, -0.3189,  0.3821]])\n",
      "fc1.bias → bias:\n",
      "tensor([ 0.3646,  0.4854, -0.1835])\n",
      "fc2.weight → weight:\n",
      "tensor([[-0.1182, -0.4655,  0.3048],\n",
      "        [ 0.2157, -0.1915, -0.0364]])\n",
      "fc2.bias → bias:\n",
      "tensor([-0.2613,  0.5708])\n"
     ]
    }
   ],
   "source": [
    "# Option B — Using a loop over all layers\n",
    "\n",
    "for name, param in model.named_parameters():\n",
    "    if 'weight' in name:\n",
    "        print(f\"{name} → weight:\\n{param.data}\")\n",
    "    elif 'bias' in name:\n",
    "        print(f\"{name} → bias:\\n{param.data}\")\n"
   ]
  },
  {
   "cell_type": "code",
   "execution_count": 11,
   "id": "6d69286c-b49d-4621-83e8-221082db7afb",
   "metadata": {},
   "outputs": [
    {
     "name": "stdout",
     "output_type": "stream",
     "text": [
      "fc1.weight : torch.Size([3, 4])\n",
      "fc1.bias : torch.Size([3])\n",
      "fc2.weight : torch.Size([2, 3])\n",
      "fc2.bias : torch.Size([2])\n"
     ]
    }
   ],
   "source": [
    "# Option C — Accessing via .state_dict()\n",
    "\n",
    "# state_dict() is a dictionary containing all model parameters (weights & biases):\n",
    "\n",
    "for name, tensor in model.state_dict().items():\n",
    "    print(name, \":\", tensor.shape)\n"
   ]
  },
  {
   "cell_type": "code",
   "execution_count": 12,
   "id": "370f65f2-464f-45ed-a201-01ff6fc775a4",
   "metadata": {},
   "outputs": [
    {
     "name": "stdout",
     "output_type": "stream",
     "text": [
      "OrderedDict({'fc1.weight': tensor([[ 0.3943, -0.2221, -0.4071, -0.4590],\n",
      "        [ 0.3661,  0.2552, -0.1295,  0.4063],\n",
      "        [ 0.1718,  0.2025, -0.3189,  0.3821]]), 'fc1.bias': tensor([ 0.3646,  0.4854, -0.1835]), 'fc2.weight': tensor([[-0.1182, -0.4655,  0.3048],\n",
      "        [ 0.2157, -0.1915, -0.0364]]), 'fc2.bias': tensor([-0.2613,  0.5708])})\n"
     ]
    }
   ],
   "source": [
    "state_dict = model.state_dict()\n",
    "print(state_dict)"
   ]
  },
  {
   "cell_type": "code",
   "execution_count": 14,
   "id": "dd0bb540-fc75-475e-ab29-5b08396f3db1",
   "metadata": {},
   "outputs": [],
   "source": [
    "# Option D — Store weights/biases in lists"
   ]
  },
  {
   "cell_type": "code",
   "execution_count": 13,
   "id": "3e45e03d-3e83-4419-b0f4-042e3f884051",
   "metadata": {},
   "outputs": [
    {
     "name": "stdout",
     "output_type": "stream",
     "text": [
      "All weights: [tensor([[ 0.3943, -0.2221, -0.4071, -0.4590],\n",
      "        [ 0.3661,  0.2552, -0.1295,  0.4063],\n",
      "        [ 0.1718,  0.2025, -0.3189,  0.3821]]), tensor([[-0.1182, -0.4655,  0.3048],\n",
      "        [ 0.2157, -0.1915, -0.0364]])]\n",
      "All biases: [tensor([ 0.3646,  0.4854, -0.1835]), tensor([-0.2613,  0.5708])]\n"
     ]
    }
   ],
   "source": [
    "weights = [p.data for n, p in model.named_parameters() if 'weight' in n]\n",
    "biases  = [p.data for n, p in model.named_parameters() if 'bias' in n]\n",
    "\n",
    "print(\"All weights:\", weights)\n",
    "print(\"All biases:\", biases)\n"
   ]
  },
  {
   "cell_type": "code",
   "execution_count": 14,
   "id": "b569ed1f-a5a0-40e9-ae9b-fa474ae53c76",
   "metadata": {},
   "outputs": [
    {
     "name": "stdout",
     "output_type": "stream",
     "text": [
      "fc1.weight torch.Size([3, 4])\n",
      "fc1.bias torch.Size([3])\n",
      "fc2.weight torch.Size([2, 3])\n",
      "fc2.bias torch.Size([2])\n"
     ]
    }
   ],
   "source": [
    "# For convolutional or transformer layers\n",
    "\n",
    "for name, param in model.named_parameters():\n",
    "    print(name, param.shape)\n"
   ]
  },
  {
   "cell_type": "code",
   "execution_count": 15,
   "id": "71c05230-5316-45fe-b57c-b3e8ac7cb26f",
   "metadata": {},
   "outputs": [
    {
     "name": "stdout",
     "output_type": "stream",
     "text": [
      "fc1.weight                                                   (3, 4)  requires_grad=True\n",
      "fc1.bias                                                     (3,)  requires_grad=True\n",
      "fc2.weight                                                   (2, 3)  requires_grad=True\n",
      "fc2.bias                                                     (2,)  requires_grad=True\n"
     ]
    }
   ],
   "source": [
    "def list_params(model):\n",
    "    for name, p in model.named_parameters():\n",
    "        print(f\"{name:60s} {tuple(p.shape)}  requires_grad={p.requires_grad}\")\n",
    "\n",
    "list_params(model)  # your nn.Transformer / custom model\n"
   ]
  },
  {
   "cell_type": "code",
   "execution_count": 16,
   "id": "54202e89-effa-41a4-a802-39677d0f924c",
   "metadata": {},
   "outputs": [
    {
     "name": "stdout",
     "output_type": "stream",
     "text": [
      "\n",
      "\n",
      "To extract a Transformer’s weights, biases, and attention parameters (and optionally the attention maps) in PyTorch.\n",
      "\n",
      "\n"
     ]
    }
   ],
   "source": [
    "print('''\n",
    "\n",
    "To extract a Transformer’s weights, biases, and attention parameters (and optionally the attention maps) in PyTorch.\n",
    "\n",
    "''')"
   ]
  },
  {
   "cell_type": "code",
   "execution_count": 17,
   "id": "d84e087e-d513-466d-a390-6932ec168382",
   "metadata": {},
   "outputs": [
    {
     "name": "stderr",
     "output_type": "stream",
     "text": [
      "BertSdpaSelfAttention is used but `torch.nn.functional.scaled_dot_product_attention` does not support non-absolute `position_embedding_type` or `output_attentions=True` or `head_mask`. Falling back to the manual attention implementation, but specifying the manual implementation will be required from Transformers version v5.0.0 onwards. This warning can be removed using the argument `attn_implementation=\"eager\"` when loading the model.\n"
     ]
    },
    {
     "name": "stdout",
     "output_type": "stream",
     "text": [
      "12 torch.Size([1, 12, 5, 5])\n"
     ]
    }
   ],
   "source": [
    "from transformers import AutoModel, AutoTokenizer\n",
    "import torch\n",
    "\n",
    "name = \"bert-base-uncased\"  \n",
    "tok = AutoTokenizer.from_pretrained(name)\n",
    "model = AutoModel.from_pretrained(name, output_attentions = True)\n",
    "model.eval()\n",
    "\n",
    "inputs = tok(\"Hello world!\", return_tensors=\"pt\")\n",
    "with torch.no_grad():\n",
    "    out = model(**inputs)\n",
    "\n",
    "# Attention maps: list over layers\n",
    "# Each item: (batch, num_heads, seq_len, seq_len)\n",
    "attn_maps = out.attentions\n",
    "print(len(attn_maps), attn_maps[0].shape)"
   ]
  },
  {
   "cell_type": "code",
   "execution_count": 25,
   "id": "b0c085d9-75c0-49c9-a3e9-129aee055cc9",
   "metadata": {},
   "outputs": [],
   "source": [
    "# Inspect / extract attention parameters per layer\n",
    "\n",
    "# BERT naming example:\n",
    "# encoder.layer.{L}.attention.self.query.weight / .bias\n",
    "# ...key.weight, ...value.weight\n",
    "# ...output.dense.weight / .bias"
   ]
  },
  {
   "cell_type": "code",
   "execution_count": 18,
   "id": "ca539d02-d42a-4555-968c-4a18ca43d595",
   "metadata": {},
   "outputs": [
    {
     "name": "stdout",
     "output_type": "stream",
     "text": [
      "encoder.layer.0.attention.self.query.weight (768, 768)\n",
      "encoder.layer.0.attention.self.query.bias (768,)\n",
      "encoder.layer.0.attention.self.key.weight (768, 768)\n",
      "encoder.layer.0.attention.self.key.bias (768,)\n",
      "encoder.layer.0.attention.self.value.weight (768, 768)\n",
      "encoder.layer.0.attention.self.value.bias (768,)\n",
      "encoder.layer.0.attention.output.dense.weight (768, 768)\n",
      "encoder.layer.0.attention.output.dense.bias (768,)\n",
      "encoder.layer.0.output.dense.weight (768, 3072)\n",
      "encoder.layer.0.output.dense.bias (768,)\n",
      "encoder.layer.1.attention.self.query.weight (768, 768)\n",
      "encoder.layer.1.attention.self.query.bias (768,)\n",
      "encoder.layer.1.attention.self.key.weight (768, 768)\n",
      "encoder.layer.1.attention.self.key.bias (768,)\n",
      "encoder.layer.1.attention.self.value.weight (768, 768)\n",
      "encoder.layer.1.attention.self.value.bias (768,)\n",
      "encoder.layer.1.attention.output.dense.weight (768, 768)\n",
      "encoder.layer.1.attention.output.dense.bias (768,)\n",
      "encoder.layer.1.output.dense.weight (768, 3072)\n",
      "encoder.layer.1.output.dense.bias (768,)\n",
      "encoder.layer.2.attention.self.query.weight (768, 768)\n",
      "encoder.layer.2.attention.self.query.bias (768,)\n",
      "encoder.layer.2.attention.self.key.weight (768, 768)\n",
      "encoder.layer.2.attention.self.key.bias (768,)\n",
      "encoder.layer.2.attention.self.value.weight (768, 768)\n",
      "encoder.layer.2.attention.self.value.bias (768,)\n",
      "encoder.layer.2.attention.output.dense.weight (768, 768)\n",
      "encoder.layer.2.attention.output.dense.bias (768,)\n",
      "encoder.layer.2.output.dense.weight (768, 3072)\n",
      "encoder.layer.2.output.dense.bias (768,)\n",
      "encoder.layer.3.attention.self.query.weight (768, 768)\n",
      "encoder.layer.3.attention.self.query.bias (768,)\n",
      "encoder.layer.3.attention.self.key.weight (768, 768)\n",
      "encoder.layer.3.attention.self.key.bias (768,)\n",
      "encoder.layer.3.attention.self.value.weight (768, 768)\n",
      "encoder.layer.3.attention.self.value.bias (768,)\n",
      "encoder.layer.3.attention.output.dense.weight (768, 768)\n",
      "encoder.layer.3.attention.output.dense.bias (768,)\n",
      "encoder.layer.3.output.dense.weight (768, 3072)\n",
      "encoder.layer.3.output.dense.bias (768,)\n",
      "encoder.layer.4.attention.self.query.weight (768, 768)\n",
      "encoder.layer.4.attention.self.query.bias (768,)\n",
      "encoder.layer.4.attention.self.key.weight (768, 768)\n",
      "encoder.layer.4.attention.self.key.bias (768,)\n",
      "encoder.layer.4.attention.self.value.weight (768, 768)\n",
      "encoder.layer.4.attention.self.value.bias (768,)\n",
      "encoder.layer.4.attention.output.dense.weight (768, 768)\n",
      "encoder.layer.4.attention.output.dense.bias (768,)\n",
      "encoder.layer.4.output.dense.weight (768, 3072)\n",
      "encoder.layer.4.output.dense.bias (768,)\n",
      "encoder.layer.5.attention.self.query.weight (768, 768)\n",
      "encoder.layer.5.attention.self.query.bias (768,)\n",
      "encoder.layer.5.attention.self.key.weight (768, 768)\n",
      "encoder.layer.5.attention.self.key.bias (768,)\n",
      "encoder.layer.5.attention.self.value.weight (768, 768)\n",
      "encoder.layer.5.attention.self.value.bias (768,)\n",
      "encoder.layer.5.attention.output.dense.weight (768, 768)\n",
      "encoder.layer.5.attention.output.dense.bias (768,)\n",
      "encoder.layer.5.output.dense.weight (768, 3072)\n",
      "encoder.layer.5.output.dense.bias (768,)\n",
      "encoder.layer.6.attention.self.query.weight (768, 768)\n",
      "encoder.layer.6.attention.self.query.bias (768,)\n",
      "encoder.layer.6.attention.self.key.weight (768, 768)\n",
      "encoder.layer.6.attention.self.key.bias (768,)\n",
      "encoder.layer.6.attention.self.value.weight (768, 768)\n",
      "encoder.layer.6.attention.self.value.bias (768,)\n",
      "encoder.layer.6.attention.output.dense.weight (768, 768)\n",
      "encoder.layer.6.attention.output.dense.bias (768,)\n",
      "encoder.layer.6.output.dense.weight (768, 3072)\n",
      "encoder.layer.6.output.dense.bias (768,)\n",
      "encoder.layer.7.attention.self.query.weight (768, 768)\n",
      "encoder.layer.7.attention.self.query.bias (768,)\n",
      "encoder.layer.7.attention.self.key.weight (768, 768)\n",
      "encoder.layer.7.attention.self.key.bias (768,)\n",
      "encoder.layer.7.attention.self.value.weight (768, 768)\n",
      "encoder.layer.7.attention.self.value.bias (768,)\n",
      "encoder.layer.7.attention.output.dense.weight (768, 768)\n",
      "encoder.layer.7.attention.output.dense.bias (768,)\n",
      "encoder.layer.7.output.dense.weight (768, 3072)\n",
      "encoder.layer.7.output.dense.bias (768,)\n",
      "encoder.layer.8.attention.self.query.weight (768, 768)\n",
      "encoder.layer.8.attention.self.query.bias (768,)\n",
      "encoder.layer.8.attention.self.key.weight (768, 768)\n",
      "encoder.layer.8.attention.self.key.bias (768,)\n",
      "encoder.layer.8.attention.self.value.weight (768, 768)\n",
      "encoder.layer.8.attention.self.value.bias (768,)\n",
      "encoder.layer.8.attention.output.dense.weight (768, 768)\n",
      "encoder.layer.8.attention.output.dense.bias (768,)\n",
      "encoder.layer.8.output.dense.weight (768, 3072)\n",
      "encoder.layer.8.output.dense.bias (768,)\n",
      "encoder.layer.9.attention.self.query.weight (768, 768)\n",
      "encoder.layer.9.attention.self.query.bias (768,)\n",
      "encoder.layer.9.attention.self.key.weight (768, 768)\n",
      "encoder.layer.9.attention.self.key.bias (768,)\n",
      "encoder.layer.9.attention.self.value.weight (768, 768)\n",
      "encoder.layer.9.attention.self.value.bias (768,)\n",
      "encoder.layer.9.attention.output.dense.weight (768, 768)\n",
      "encoder.layer.9.attention.output.dense.bias (768,)\n",
      "encoder.layer.9.output.dense.weight (768, 3072)\n",
      "encoder.layer.9.output.dense.bias (768,)\n",
      "encoder.layer.10.attention.self.query.weight (768, 768)\n",
      "encoder.layer.10.attention.self.query.bias (768,)\n",
      "encoder.layer.10.attention.self.key.weight (768, 768)\n",
      "encoder.layer.10.attention.self.key.bias (768,)\n",
      "encoder.layer.10.attention.self.value.weight (768, 768)\n",
      "encoder.layer.10.attention.self.value.bias (768,)\n",
      "encoder.layer.10.attention.output.dense.weight (768, 768)\n",
      "encoder.layer.10.attention.output.dense.bias (768,)\n",
      "encoder.layer.10.output.dense.weight (768, 3072)\n",
      "encoder.layer.10.output.dense.bias (768,)\n",
      "encoder.layer.11.attention.self.query.weight (768, 768)\n",
      "encoder.layer.11.attention.self.query.bias (768,)\n",
      "encoder.layer.11.attention.self.key.weight (768, 768)\n",
      "encoder.layer.11.attention.self.key.bias (768,)\n",
      "encoder.layer.11.attention.self.value.weight (768, 768)\n",
      "encoder.layer.11.attention.self.value.bias (768,)\n",
      "encoder.layer.11.attention.output.dense.weight (768, 768)\n",
      "encoder.layer.11.attention.output.dense.bias (768,)\n",
      "encoder.layer.11.output.dense.weight (768, 3072)\n",
      "encoder.layer.11.output.dense.bias (768,)\n"
     ]
    }
   ],
   "source": [
    "for name, p in model.named_parameters():\n",
    "    if any(k in name for k in [\"query\", \"key\", \"value\", \"out_proj\", \"output.dense\"]):\n",
    "        print(name, tuple(p.shape))"
   ]
  },
  {
   "cell_type": "code",
   "execution_count": 19,
   "id": "e1fe8b46-5437-4848-916d-acc618139e63",
   "metadata": {},
   "outputs": [],
   "source": [
    "# Example: get the Q/K/V and output projection for layer L:"
   ]
  },
  {
   "cell_type": "code",
   "execution_count": 20,
   "id": "67825dc0-5242-42d5-b400-d9ea8d134f57",
   "metadata": {},
   "outputs": [],
   "source": [
    "L = 0\n",
    "qry_W = dict(model.named_parameters())[f\"encoder.layer.{L}.attention.self.query.weight\"]\n",
    "qry_b = dict(model.named_parameters())[f\"encoder.layer.{L}.attention.self.query.bias\"]\n",
    "key_W = dict(model.named_parameters())[f\"encoder.layer.{L}.attention.self.key.weight\"]\n",
    "val_W = dict(model.named_parameters())[f\"encoder.layer.{L}.attention.self.value.weight\"]\n",
    "out_W = dict(model.named_parameters())[f\"encoder.layer.{L}.attention.output.dense.weight\"]\n",
    "out_b = dict(model.named_parameters())[f\"encoder.layer.{L}.attention.output.dense.bias\"]"
   ]
  },
  {
   "cell_type": "code",
   "execution_count": 21,
   "id": "e21ba84f-1931-47a5-90eb-545970a7caf4",
   "metadata": {},
   "outputs": [
    {
     "name": "stdout",
     "output_type": "stream",
     "text": [
      "=== Layer 0 ===\n",
      "Query weight: torch.Size([768, 768])\n",
      "Query bias: torch.Size([768])\n",
      "Key weight: torch.Size([768, 768])\n",
      "Value weight: torch.Size([768, 768])\n",
      "Output weight: torch.Size([768, 768])\n",
      "Output bias: torch.Size([768])\n"
     ]
    }
   ],
   "source": [
    "print(\"=== Layer\", L, \"===\")\n",
    "print(\"Query weight:\", qry_W.shape)\n",
    "print(\"Query bias:\", qry_b.shape)\n",
    "print(\"Key weight:\", key_W.shape)\n",
    "print(\"Value weight:\", val_W.shape)\n",
    "print(\"Output weight:\", out_W.shape)\n",
    "print(\"Output bias:\", out_b.shape)"
   ]
  },
  {
   "cell_type": "code",
   "execution_count": 22,
   "id": "93c2c317-7b92-44f4-b8ad-aa078fe2fa16",
   "metadata": {},
   "outputs": [
    {
     "data": {
      "text/html": [
       "<div>\n",
       "<style scoped>\n",
       "    .dataframe tbody tr th:only-of-type {\n",
       "        vertical-align: middle;\n",
       "    }\n",
       "\n",
       "    .dataframe tbody tr th {\n",
       "        vertical-align: top;\n",
       "    }\n",
       "\n",
       "    .dataframe thead th {\n",
       "        text-align: right;\n",
       "    }\n",
       "</style>\n",
       "<table border=\"1\" class=\"dataframe\">\n",
       "  <thead>\n",
       "    <tr style=\"text-align: right;\">\n",
       "      <th></th>\n",
       "      <th>Param</th>\n",
       "      <th>Shape</th>\n",
       "    </tr>\n",
       "  </thead>\n",
       "  <tbody>\n",
       "    <tr>\n",
       "      <th>0</th>\n",
       "      <td>query.weight</td>\n",
       "      <td>(768, 768)</td>\n",
       "    </tr>\n",
       "    <tr>\n",
       "      <th>1</th>\n",
       "      <td>query.bias</td>\n",
       "      <td>(768,)</td>\n",
       "    </tr>\n",
       "    <tr>\n",
       "      <th>2</th>\n",
       "      <td>key.weight</td>\n",
       "      <td>(768, 768)</td>\n",
       "    </tr>\n",
       "    <tr>\n",
       "      <th>3</th>\n",
       "      <td>value.weight</td>\n",
       "      <td>(768, 768)</td>\n",
       "    </tr>\n",
       "    <tr>\n",
       "      <th>4</th>\n",
       "      <td>output.weight</td>\n",
       "      <td>(768, 768)</td>\n",
       "    </tr>\n",
       "    <tr>\n",
       "      <th>5</th>\n",
       "      <td>output.bias</td>\n",
       "      <td>(768,)</td>\n",
       "    </tr>\n",
       "  </tbody>\n",
       "</table>\n",
       "</div>"
      ],
      "text/plain": [
       "           Param       Shape\n",
       "0   query.weight  (768, 768)\n",
       "1     query.bias      (768,)\n",
       "2     key.weight  (768, 768)\n",
       "3   value.weight  (768, 768)\n",
       "4  output.weight  (768, 768)\n",
       "5    output.bias      (768,)"
      ]
     },
     "execution_count": 22,
     "metadata": {},
     "output_type": "execute_result"
    }
   ],
   "source": [
    "import pandas as pd\n",
    "\n",
    "pd.DataFrame({\n",
    "    \"Param\": [\"query.weight\", \"query.bias\", \"key.weight\", \"value.weight\", \"output.weight\", \"output.bias\"],\n",
    "    \"Shape\": [tuple(qry_W.shape), tuple(qry_b.shape), tuple(key_W.shape), tuple(val_W.shape), tuple(out_W.shape), tuple(out_b.shape)]\n",
    "})"
   ]
  },
  {
   "cell_type": "code",
   "execution_count": 23,
   "id": "ed53669f-1b08-4ebc-ba4b-3e4e5e7f5841",
   "metadata": {},
   "outputs": [],
   "source": [
    "# If you want to print all attention weights/biases for every layer, just loop:\n",
    "\n",
    "# for L in range(model.config.num_hidden_layers):\n",
    "#    print(f\"\\n=== Layer {L} ===\")\n",
    "#    layer_params = dict(model.named_parameters())\n",
    "#    for name in [\"query\", \"key\", \"value\"]:\n",
    "#        w = layer_params[f\"encoder.layer.{L}.attention.self.{name}.weight\"]\n",
    "#        b = layer_params[f\"encoder.layer.{L}.attention.self.{name}.bias\"]\n",
    "#        print(f\"{name}: {tuple(w.shape)} / {tuple(b.shape)}\")"
   ]
  },
  {
   "cell_type": "code",
   "execution_count": 24,
   "id": "2b2153a2-9a0e-4243-96c5-f1395285d517",
   "metadata": {},
   "outputs": [
    {
     "data": {
      "image/png": "[encoded data removed]",
      "text/plain": [
       "<Figure size 600x500 with 1 Axes>"
      ]
     },
     "metadata": {},
     "output_type": "display_data"
    }
   ],
   "source": [
    "# !pip install transformers torch matplotlib\n",
    "\n",
    "import torch\n",
    "import matplotlib.pyplot as plt\n",
    "from transformers import AutoTokenizer, AutoModel\n",
    "\n",
    "model_name = \"bert-base-uncased\"  # or \"gpt2\", etc.\n",
    "tok = AutoTokenizer.from_pretrained(model_name)\n",
    "model = AutoModel.from_pretrained(model_name, output_attentions=True).eval()\n",
    "\n",
    "text = \"Attention is all you need.\"\n",
    "inputs = tok(text, return_tensors=\"pt\")\n",
    "\n",
    "with torch.no_grad():\n",
    "    out = model(**inputs)\n",
    "\n",
    "# Choose a layer and head\n",
    "L = 0             # layer index (0-based)\n",
    "head = 0          # head index (0-based)\n",
    "\n",
    "# Shape: list over layers; each tensor: (batch, heads, seq_len, seq_len)\n",
    "att = out.attentions[L][0, head]              # (seq_len, seq_len)\n",
    "# Or average across heads:\n",
    "# att = out.attentions[L][0].mean(dim=0)      # (seq_len, seq_len)\n",
    "\n",
    "# Token labels for axes\n",
    "tokens = tok.convert_ids_to_tokens(inputs[\"input_ids\"][0])\n",
    "\n",
    "# Plot (matplotlib; one figure, no specific colors)\n",
    "plt.figure(figsize=(6, 5))\n",
    "plt.imshow(att.cpu(), aspect='auto')\n",
    "plt.title(f\"Attention heatmap — layer {L}, head {head}\")\n",
    "plt.xticks(range(len(tokens)), tokens, rotation=90)\n",
    "plt.yticks(range(len(tokens)), tokens)\n",
    "plt.xlabel(\"Key / Source positions\")\n",
    "plt.ylabel(\"Query / Target positions\")\n",
    "plt.tight_layout()\n",
    "plt.show()\n"
   ]
  },
  {
   "cell_type": "code",
   "execution_count": null,
   "id": "113950e1-e72a-4e63-96a2-a5fbc940812f",
   "metadata": {},
   "outputs": [],
   "source": []
  }
 ],
 "metadata": {
  "kernelspec": {
   "display_name": "Python 3 (ipykernel)",
   "language": "python",
   "name": "python3"
  },
  "language_info": {
   "codemirror_mode": {
    "name": "ipython",
    "version": 3
   },
   "file_extension": ".py",
   "mimetype": "text/x-python",
   "name": "python",
   "nbconvert_exporter": "python",
   "pygments_lexer": "ipython3",
   "version": "3.12.2"
  }
 },
 "nbformat": 4,
 "nbformat_minor": 5
}
